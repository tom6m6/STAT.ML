{
 "cells": [
  {
   "cell_type": "markdown",
   "metadata": {},
   "source": [
    "# 《统计方法与机器学习》实践作业4\n",
    "\n",
    "10211900416 郭夏辉\n",
    "\n",
    "## D-Day： Nov. 8th\n",
    "## 任务：\n",
    "\n",
    "### 数据预处理\n",
    "1. 从scikit-learn包中载入数据集diabetes\n",
    "\n",
    "2. 通过阅读以下参考文献，定义清楚问题背景、数据中响应变量和自变量的概念、取值范围等信息。\n",
    "\n",
    "3. 以学号的最后三位数字作为随机种子，采用留出法划分训练集和测试集，样本比例为7.5:2.5。\n",
    "\n",
    "### 模型构建\n",
    "在本次实验中我们将a quantitative measure of disease progression one year after baseline作为响应变量，构建合适的特征（可参考文献2），并训练模型。\n",
    "\n",
    "4. 判断用于建模的特征数据中是否存在多重共线性？提供合适的判断方案。\n",
    "\n",
    "5. 构建线性回归模型Model_1、岭回归模型Model_2、主成分回归模型Model_3。\n",
    "\n",
    "### 模型评价\n",
    "\n",
    "6. 利用RMSE，比较Model_1、Model_2、Model_3在测试集上的预测效果。请进行评论。\n",
    "\n",
    "\n",
    "### 参考文献：\n",
    "[1] https://scikit-learn.org/stable/datasets/toy_dataset.html\n",
    "\n",
    "[2] https://www4.stat.ncsu.edu/~boos/var.select/diabetes.html"
   ]
  },
  {
   "cell_type": "markdown",
   "metadata": {},
   "source": [
    "## 1.从scikit-learn包中载入数据集diabetes"
   ]
  },
  {
   "cell_type": "code",
   "execution_count": 16,
   "metadata": {},
   "outputs": [],
   "source": [
    "import pandas as pd\n",
    "import numpy as np\n",
    "import random\n",
    "import seaborn as sns\n",
    "import scipy.stats as stats\n",
    "import matplotlib.pyplot as plt\n",
    "import math\n",
    "\n",
    "from sklearn import preprocessing # Data Preprocessing\n",
    "import statsmodels.api as sm # LSE, Ridge Regression\n",
    "from statsmodels.stats.outliers_influence import variance_inflation_factor # VIF \n",
    "from statsmodels.multivariate.pca import PCA # PCR\n",
    "\n",
    "from sklearn.datasets import load_diabetes\n",
    "data = load_diabetes(scaled=False)"
   ]
  },
  {
   "cell_type": "markdown",
   "metadata": {},
   "source": [
    "## 2.通过阅读以下参考文献，定义清楚问题背景、数据中响应变量和自变量的概念、取值范围等信息。"
   ]
  },
  {
   "cell_type": "code",
   "execution_count": 9,
   "metadata": {
    "collapsed": true
   },
   "outputs": [
    {
     "data": {
      "text/plain": [
       "{'data': array([[59.    ,  2.    , 32.1   , ...,  4.    ,  4.8598, 87.    ],\n",
       "        [48.    ,  1.    , 21.6   , ...,  3.    ,  3.8918, 69.    ],\n",
       "        [72.    ,  2.    , 30.5   , ...,  4.    ,  4.6728, 85.    ],\n",
       "        ...,\n",
       "        [60.    ,  2.    , 24.9   , ...,  3.77  ,  4.1271, 95.    ],\n",
       "        [36.    ,  1.    , 30.    , ...,  4.79  ,  5.1299, 85.    ],\n",
       "        [36.    ,  1.    , 19.6   , ...,  3.    ,  4.5951, 92.    ]]),\n",
       " 'target': array([151.,  75., 141., 206., 135.,  97., 138.,  63., 110., 310., 101.,\n",
       "         69., 179., 185., 118., 171., 166., 144.,  97., 168.,  68.,  49.,\n",
       "         68., 245., 184., 202., 137.,  85., 131., 283., 129.,  59., 341.,\n",
       "         87.,  65., 102., 265., 276., 252.,  90., 100.,  55.,  61.,  92.,\n",
       "        259.,  53., 190., 142.,  75., 142., 155., 225.,  59., 104., 182.,\n",
       "        128.,  52.,  37., 170., 170.,  61., 144.,  52., 128.,  71., 163.,\n",
       "        150.,  97., 160., 178.,  48., 270., 202., 111.,  85.,  42., 170.,\n",
       "        200., 252., 113., 143.,  51.,  52., 210.,  65., 141.,  55., 134.,\n",
       "         42., 111.,  98., 164.,  48.,  96.,  90., 162., 150., 279.,  92.,\n",
       "         83., 128., 102., 302., 198.,  95.,  53., 134., 144., 232.,  81.,\n",
       "        104.,  59., 246., 297., 258., 229., 275., 281., 179., 200., 200.,\n",
       "        173., 180.,  84., 121., 161.,  99., 109., 115., 268., 274., 158.,\n",
       "        107.,  83., 103., 272.,  85., 280., 336., 281., 118., 317., 235.,\n",
       "         60., 174., 259., 178., 128.,  96., 126., 288.,  88., 292.,  71.,\n",
       "        197., 186.,  25.,  84.,  96., 195.,  53., 217., 172., 131., 214.,\n",
       "         59.,  70., 220., 268., 152.,  47.,  74., 295., 101., 151., 127.,\n",
       "        237., 225.,  81., 151., 107.,  64., 138., 185., 265., 101., 137.,\n",
       "        143., 141.,  79., 292., 178.,  91., 116.,  86., 122.,  72., 129.,\n",
       "        142.,  90., 158.,  39., 196., 222., 277.,  99., 196., 202., 155.,\n",
       "         77., 191.,  70.,  73.,  49.,  65., 263., 248., 296., 214., 185.,\n",
       "         78.,  93., 252., 150.,  77., 208.,  77., 108., 160.,  53., 220.,\n",
       "        154., 259.,  90., 246., 124.,  67.,  72., 257., 262., 275., 177.,\n",
       "         71.,  47., 187., 125.,  78.,  51., 258., 215., 303., 243.,  91.,\n",
       "        150., 310., 153., 346.,  63.,  89.,  50.,  39., 103., 308., 116.,\n",
       "        145.,  74.,  45., 115., 264.,  87., 202., 127., 182., 241.,  66.,\n",
       "         94., 283.,  64., 102., 200., 265.,  94., 230., 181., 156., 233.,\n",
       "         60., 219.,  80.,  68., 332., 248.,  84., 200.,  55.,  85.,  89.,\n",
       "         31., 129.,  83., 275.,  65., 198., 236., 253., 124.,  44., 172.,\n",
       "        114., 142., 109., 180., 144., 163., 147.,  97., 220., 190., 109.,\n",
       "        191., 122., 230., 242., 248., 249., 192., 131., 237.,  78., 135.,\n",
       "        244., 199., 270., 164.,  72.,  96., 306.,  91., 214.,  95., 216.,\n",
       "        263., 178., 113., 200., 139., 139.,  88., 148.,  88., 243.,  71.,\n",
       "         77., 109., 272.,  60.,  54., 221.,  90., 311., 281., 182., 321.,\n",
       "         58., 262., 206., 233., 242., 123., 167.,  63., 197.,  71., 168.,\n",
       "        140., 217., 121., 235., 245.,  40.,  52., 104., 132.,  88.,  69.,\n",
       "        219.,  72., 201., 110.,  51., 277.,  63., 118.,  69., 273., 258.,\n",
       "         43., 198., 242., 232., 175.,  93., 168., 275., 293., 281.,  72.,\n",
       "        140., 189., 181., 209., 136., 261., 113., 131., 174., 257.,  55.,\n",
       "         84.,  42., 146., 212., 233.,  91., 111., 152., 120.,  67., 310.,\n",
       "         94., 183.,  66., 173.,  72.,  49.,  64.,  48., 178., 104., 132.,\n",
       "        220.,  57.]),\n",
       " 'frame': None,\n",
       " 'DESCR': '.. _diabetes_dataset:\\n\\nDiabetes dataset\\n----------------\\n\\nTen baseline variables, age, sex, body mass index, average blood\\npressure, and six blood serum measurements were obtained for each of n =\\n442 diabetes patients, as well as the response of interest, a\\nquantitative measure of disease progression one year after baseline.\\n\\n**Data Set Characteristics:**\\n\\n  :Number of Instances: 442\\n\\n  :Number of Attributes: First 10 columns are numeric predictive values\\n\\n  :Target: Column 11 is a quantitative measure of disease progression one year after baseline\\n\\n  :Attribute Information:\\n      - age     age in years\\n      - sex\\n      - bmi     body mass index\\n      - bp      average blood pressure\\n      - s1      tc, total serum cholesterol\\n      - s2      ldl, low-density lipoproteins\\n      - s3      hdl, high-density lipoproteins\\n      - s4      tch, total cholesterol / HDL\\n      - s5      ltg, possibly log of serum triglycerides level\\n      - s6      glu, blood sugar level\\n\\nNote: Each of these 10 feature variables have been mean centered and scaled by the standard deviation times the square root of `n_samples` (i.e. the sum of squares of each column totals 1).\\n\\nSource URL:\\nhttps://www4.stat.ncsu.edu/~boos/var.select/diabetes.html\\n\\nFor more information see:\\nBradley Efron, Trevor Hastie, Iain Johnstone and Robert Tibshirani (2004) \"Least Angle Regression,\" Annals of Statistics (with discussion), 407-499.\\n(https://web.stanford.edu/~hastie/Papers/LARS/LeastAngle_2002.pdf)\\n',\n",
       " 'feature_names': ['age',\n",
       "  'sex',\n",
       "  'bmi',\n",
       "  'bp',\n",
       "  's1',\n",
       "  's2',\n",
       "  's3',\n",
       "  's4',\n",
       "  's5',\n",
       "  's6'],\n",
       " 'data_filename': 'diabetes_data_raw.csv.gz',\n",
       " 'target_filename': 'diabetes_target.csv.gz',\n",
       " 'data_module': 'sklearn.datasets.data'}"
      ]
     },
     "execution_count": 9,
     "metadata": {},
     "output_type": "execute_result"
    }
   ],
   "source": [
    "data"
   ]
  },
  {
   "cell_type": "code",
   "execution_count": 17,
   "metadata": {},
   "outputs": [
    {
     "name": "stdout",
     "output_type": "stream",
     "text": [
      "['age', 'sex', 'bmi', 'bp', 's1', 's2', 's3', 's4', 's5', 's6']\n",
      "特征数： 10\n",
      "样本量： 442\n"
     ]
    }
   ],
   "source": [
    "print(data['feature_names'])\n",
    "\n",
    "print(\"特征数：\",data['data'].shape[1])\n",
    "print(\"样本量：\",data['data'].shape[0])"
   ]
  },
  {
   "cell_type": "markdown",
   "metadata": {},
   "source": [
    "通过阅读参考文献，我们可以得知发现这个数据集中自变量有十个，分别是：\n",
    "\n",
    "年龄、性别、BMI指数、平均血压、s1血清总胆固醇、s2低密度脂蛋白、s3高密度脂蛋白、s4总胆固醇、s5血清甘油三酯、s6血糖\n",
    "\n",
    "响应变量是病人一年后的糖尿病发展情况。\n",
    "\n",
    "样本量$n=442$\n",
    "\n",
    "研究的是病人的生理数据与一年后病情发展情况之间的关系。"
   ]
  },
  {
   "cell_type": "markdown",
   "metadata": {},
   "source": [
    "## 3.以学号的最后三位数字作为随机种子，采用留出法划分训练集和测试集，样本比例为7.5:2.5。\n",
    "\n",
    "在本次实验中我们将a quantitative measure of disease progression one year after baseline作为响应变量，构建合适的特征（可参考文献2），并训练模型。"
   ]
  },
  {
   "cell_type": "code",
   "execution_count": 18,
   "metadata": {},
   "outputs": [
    {
     "data": {
      "text/html": [
       "<div>\n",
       "<style scoped>\n",
       "    .dataframe tbody tr th:only-of-type {\n",
       "        vertical-align: middle;\n",
       "    }\n",
       "\n",
       "    .dataframe tbody tr th {\n",
       "        vertical-align: top;\n",
       "    }\n",
       "\n",
       "    .dataframe thead th {\n",
       "        text-align: right;\n",
       "    }\n",
       "</style>\n",
       "<table border=\"1\" class=\"dataframe\">\n",
       "  <thead>\n",
       "    <tr style=\"text-align: right;\">\n",
       "      <th></th>\n",
       "      <th>age</th>\n",
       "      <th>sex</th>\n",
       "      <th>bmi</th>\n",
       "      <th>bp</th>\n",
       "      <th>s1</th>\n",
       "      <th>s2</th>\n",
       "      <th>s3</th>\n",
       "      <th>s4</th>\n",
       "      <th>s5</th>\n",
       "      <th>s6</th>\n",
       "      <th>trend</th>\n",
       "    </tr>\n",
       "  </thead>\n",
       "  <tbody>\n",
       "    <tr>\n",
       "      <th>0</th>\n",
       "      <td>59.0</td>\n",
       "      <td>2.0</td>\n",
       "      <td>32.1</td>\n",
       "      <td>101.0</td>\n",
       "      <td>157.0</td>\n",
       "      <td>93.2</td>\n",
       "      <td>38.0</td>\n",
       "      <td>4.0</td>\n",
       "      <td>4.8598</td>\n",
       "      <td>87.0</td>\n",
       "      <td>151.0</td>\n",
       "    </tr>\n",
       "    <tr>\n",
       "      <th>1</th>\n",
       "      <td>48.0</td>\n",
       "      <td>1.0</td>\n",
       "      <td>21.6</td>\n",
       "      <td>87.0</td>\n",
       "      <td>183.0</td>\n",
       "      <td>103.2</td>\n",
       "      <td>70.0</td>\n",
       "      <td>3.0</td>\n",
       "      <td>3.8918</td>\n",
       "      <td>69.0</td>\n",
       "      <td>75.0</td>\n",
       "    </tr>\n",
       "    <tr>\n",
       "      <th>2</th>\n",
       "      <td>72.0</td>\n",
       "      <td>2.0</td>\n",
       "      <td>30.5</td>\n",
       "      <td>93.0</td>\n",
       "      <td>156.0</td>\n",
       "      <td>93.6</td>\n",
       "      <td>41.0</td>\n",
       "      <td>4.0</td>\n",
       "      <td>4.6728</td>\n",
       "      <td>85.0</td>\n",
       "      <td>141.0</td>\n",
       "    </tr>\n",
       "    <tr>\n",
       "      <th>3</th>\n",
       "      <td>24.0</td>\n",
       "      <td>1.0</td>\n",
       "      <td>25.3</td>\n",
       "      <td>84.0</td>\n",
       "      <td>198.0</td>\n",
       "      <td>131.4</td>\n",
       "      <td>40.0</td>\n",
       "      <td>5.0</td>\n",
       "      <td>4.8903</td>\n",
       "      <td>89.0</td>\n",
       "      <td>206.0</td>\n",
       "    </tr>\n",
       "    <tr>\n",
       "      <th>4</th>\n",
       "      <td>50.0</td>\n",
       "      <td>1.0</td>\n",
       "      <td>23.0</td>\n",
       "      <td>101.0</td>\n",
       "      <td>192.0</td>\n",
       "      <td>125.4</td>\n",
       "      <td>52.0</td>\n",
       "      <td>4.0</td>\n",
       "      <td>4.2905</td>\n",
       "      <td>80.0</td>\n",
       "      <td>135.0</td>\n",
       "    </tr>\n",
       "  </tbody>\n",
       "</table>\n",
       "</div>"
      ],
      "text/plain": [
       "    age  sex   bmi     bp     s1     s2    s3   s4      s5    s6  trend\n",
       "0  59.0  2.0  32.1  101.0  157.0   93.2  38.0  4.0  4.8598  87.0  151.0\n",
       "1  48.0  1.0  21.6   87.0  183.0  103.2  70.0  3.0  3.8918  69.0   75.0\n",
       "2  72.0  2.0  30.5   93.0  156.0   93.6  41.0  4.0  4.6728  85.0  141.0\n",
       "3  24.0  1.0  25.3   84.0  198.0  131.4  40.0  5.0  4.8903  89.0  206.0\n",
       "4  50.0  1.0  23.0  101.0  192.0  125.4  52.0  4.0  4.2905  80.0  135.0"
      ]
     },
     "execution_count": 18,
     "metadata": {},
     "output_type": "execute_result"
    }
   ],
   "source": [
    "df = pd.DataFrame(data['data'], columns=data['feature_names'])\n",
    "df['trend'] = data['target']\n",
    "df.head()"
   ]
  },
  {
   "cell_type": "code",
   "execution_count": 19,
   "metadata": {},
   "outputs": [],
   "source": [
    "seed = 416\n",
    "p = 10 # 特征数\n",
    "n = 442 # 样本量\n",
    "\n",
    "n_train=int(n*0.75)\n",
    "n_test = n - n_train\n",
    "\n",
    "random.seed(seed)\n",
    "index_selected = random.sample(range(0,n),n_train)\n",
    "index_selected.sort()\n",
    "\n",
    "# 划分训练集和测试集\n",
    "data_train = df.loc[index_selected]\n",
    "data_test = df.drop(index = index_selected)"
   ]
  },
  {
   "cell_type": "markdown",
   "metadata": {},
   "source": [
    "然后，我对自变量进行标准化，对响应变量进行中心化，并试着建立一个线性回归模型。"
   ]
  },
  {
   "cell_type": "code",
   "execution_count": 20,
   "metadata": {},
   "outputs": [
    {
     "data": {
      "text/html": [
       "<table class=\"simpletable\">\n",
       "<caption>OLS Regression Results</caption>\n",
       "<tr>\n",
       "  <th>Dep. Variable:</th>          <td>trend</td>      <th>  R-squared:         </th> <td>   0.554</td>\n",
       "</tr>\n",
       "<tr>\n",
       "  <th>Model:</th>                   <td>OLS</td>       <th>  Adj. R-squared:    </th> <td>   0.540</td>\n",
       "</tr>\n",
       "<tr>\n",
       "  <th>Method:</th>             <td>Least Squares</td>  <th>  F-statistic:       </th> <td>   39.71</td>\n",
       "</tr>\n",
       "<tr>\n",
       "  <th>Date:</th>             <td>Sat, 04 Nov 2023</td> <th>  Prob (F-statistic):</th> <td>2.38e-50</td>\n",
       "</tr>\n",
       "<tr>\n",
       "  <th>Time:</th>                 <td>23:32:18</td>     <th>  Log-Likelihood:    </th> <td> -1779.2</td>\n",
       "</tr>\n",
       "<tr>\n",
       "  <th>No. Observations:</th>      <td>   331</td>      <th>  AIC:               </th> <td>   3580.</td>\n",
       "</tr>\n",
       "<tr>\n",
       "  <th>Df Residuals:</th>          <td>   320</td>      <th>  BIC:               </th> <td>   3622.</td>\n",
       "</tr>\n",
       "<tr>\n",
       "  <th>Df Model:</th>              <td>    10</td>      <th>                     </th>     <td> </td>   \n",
       "</tr>\n",
       "<tr>\n",
       "  <th>Covariance Type:</th>      <td>nonrobust</td>    <th>                     </th>     <td> </td>   \n",
       "</tr>\n",
       "</table>\n",
       "<table class=\"simpletable\">\n",
       "<tr>\n",
       "    <td></td>       <th>coef</th>     <th>std err</th>      <th>t</th>      <th>P>|t|</th>  <th>[0.025</th>    <th>0.975]</th>  \n",
       "</tr>\n",
       "<tr>\n",
       "  <th>const</th> <td> -273.1857</td> <td>   79.202</td> <td>   -3.449</td> <td> 0.001</td> <td> -429.008</td> <td> -117.363</td>\n",
       "</tr>\n",
       "<tr>\n",
       "  <th>age</th>   <td>   -0.0820</td> <td>    0.246</td> <td>   -0.333</td> <td> 0.739</td> <td>   -0.566</td> <td>    0.402</td>\n",
       "</tr>\n",
       "<tr>\n",
       "  <th>sex</th>   <td>  -22.7069</td> <td>    6.531</td> <td>   -3.477</td> <td> 0.001</td> <td>  -35.555</td> <td>   -9.859</td>\n",
       "</tr>\n",
       "<tr>\n",
       "  <th>bmi</th>   <td>    6.1158</td> <td>    0.815</td> <td>    7.508</td> <td> 0.000</td> <td>    4.513</td> <td>    7.718</td>\n",
       "</tr>\n",
       "<tr>\n",
       "  <th>bp</th>    <td>    0.8221</td> <td>    0.261</td> <td>    3.154</td> <td> 0.002</td> <td>    0.309</td> <td>    1.335</td>\n",
       "</tr>\n",
       "<tr>\n",
       "  <th>s1</th>    <td>   -0.5197</td> <td>    0.664</td> <td>   -0.782</td> <td> 0.435</td> <td>   -1.827</td> <td>    0.787</td>\n",
       "</tr>\n",
       "<tr>\n",
       "  <th>s2</th>    <td>    0.2341</td> <td>    0.606</td> <td>    0.386</td> <td> 0.699</td> <td>   -0.958</td> <td>    1.426</td>\n",
       "</tr>\n",
       "<tr>\n",
       "  <th>s3</th>    <td>   -0.2813</td> <td>    0.920</td> <td>   -0.306</td> <td> 0.760</td> <td>   -2.091</td> <td>    1.529</td>\n",
       "</tr>\n",
       "<tr>\n",
       "  <th>s4</th>    <td>    6.1964</td> <td>    6.894</td> <td>    0.899</td> <td> 0.369</td> <td>   -7.368</td> <td>   19.761</td>\n",
       "</tr>\n",
       "<tr>\n",
       "  <th>s5</th>    <td>   55.6786</td> <td>   17.871</td> <td>    3.116</td> <td> 0.002</td> <td>   20.519</td> <td>   90.838</td>\n",
       "</tr>\n",
       "<tr>\n",
       "  <th>s6</th>    <td>    0.2612</td> <td>    0.314</td> <td>    0.832</td> <td> 0.406</td> <td>   -0.357</td> <td>    0.879</td>\n",
       "</tr>\n",
       "</table>\n",
       "<table class=\"simpletable\">\n",
       "<tr>\n",
       "  <th>Omnibus:</th>       <td> 1.669</td> <th>  Durbin-Watson:     </th> <td>   1.964</td>\n",
       "</tr>\n",
       "<tr>\n",
       "  <th>Prob(Omnibus):</th> <td> 0.434</td> <th>  Jarque-Bera (JB):  </th> <td>   1.491</td>\n",
       "</tr>\n",
       "<tr>\n",
       "  <th>Skew:</th>          <td>-0.027</td> <th>  Prob(JB):          </th> <td>   0.474</td>\n",
       "</tr>\n",
       "<tr>\n",
       "  <th>Kurtosis:</th>      <td> 2.676</td> <th>  Cond. No.          </th> <td>7.46e+03</td>\n",
       "</tr>\n",
       "</table><br/><br/>Notes:<br/>[1] Standard Errors assume that the covariance matrix of the errors is correctly specified.<br/>[2] The condition number is large, 7.46e+03. This might indicate that there are<br/>strong multicollinearity or other numerical problems."
      ],
      "text/latex": [
       "\\begin{center}\n",
       "\\begin{tabular}{lclc}\n",
       "\\toprule\n",
       "\\textbf{Dep. Variable:}    &      trend       & \\textbf{  R-squared:         } &     0.554   \\\\\n",
       "\\textbf{Model:}            &       OLS        & \\textbf{  Adj. R-squared:    } &     0.540   \\\\\n",
       "\\textbf{Method:}           &  Least Squares   & \\textbf{  F-statistic:       } &     39.71   \\\\\n",
       "\\textbf{Date:}             & Sat, 04 Nov 2023 & \\textbf{  Prob (F-statistic):} &  2.38e-50   \\\\\n",
       "\\textbf{Time:}             &     23:32:18     & \\textbf{  Log-Likelihood:    } &   -1779.2   \\\\\n",
       "\\textbf{No. Observations:} &         331      & \\textbf{  AIC:               } &     3580.   \\\\\n",
       "\\textbf{Df Residuals:}     &         320      & \\textbf{  BIC:               } &     3622.   \\\\\n",
       "\\textbf{Df Model:}         &          10      & \\textbf{                     } &             \\\\\n",
       "\\textbf{Covariance Type:}  &    nonrobust     & \\textbf{                     } &             \\\\\n",
       "\\bottomrule\n",
       "\\end{tabular}\n",
       "\\begin{tabular}{lcccccc}\n",
       "               & \\textbf{coef} & \\textbf{std err} & \\textbf{t} & \\textbf{P$> |$t$|$} & \\textbf{[0.025} & \\textbf{0.975]}  \\\\\n",
       "\\midrule\n",
       "\\textbf{const} &    -273.1857  &       79.202     &    -3.449  &         0.001        &     -429.008    &     -117.363     \\\\\n",
       "\\textbf{age}   &      -0.0820  &        0.246     &    -0.333  &         0.739        &       -0.566    &        0.402     \\\\\n",
       "\\textbf{sex}   &     -22.7069  &        6.531     &    -3.477  &         0.001        &      -35.555    &       -9.859     \\\\\n",
       "\\textbf{bmi}   &       6.1158  &        0.815     &     7.508  &         0.000        &        4.513    &        7.718     \\\\\n",
       "\\textbf{bp}    &       0.8221  &        0.261     &     3.154  &         0.002        &        0.309    &        1.335     \\\\\n",
       "\\textbf{s1}    &      -0.5197  &        0.664     &    -0.782  &         0.435        &       -1.827    &        0.787     \\\\\n",
       "\\textbf{s2}    &       0.2341  &        0.606     &     0.386  &         0.699        &       -0.958    &        1.426     \\\\\n",
       "\\textbf{s3}    &      -0.2813  &        0.920     &    -0.306  &         0.760        &       -2.091    &        1.529     \\\\\n",
       "\\textbf{s4}    &       6.1964  &        6.894     &     0.899  &         0.369        &       -7.368    &       19.761     \\\\\n",
       "\\textbf{s5}    &      55.6786  &       17.871     &     3.116  &         0.002        &       20.519    &       90.838     \\\\\n",
       "\\textbf{s6}    &       0.2612  &        0.314     &     0.832  &         0.406        &       -0.357    &        0.879     \\\\\n",
       "\\bottomrule\n",
       "\\end{tabular}\n",
       "\\begin{tabular}{lclc}\n",
       "\\textbf{Omnibus:}       &  1.669 & \\textbf{  Durbin-Watson:     } &    1.964  \\\\\n",
       "\\textbf{Prob(Omnibus):} &  0.434 & \\textbf{  Jarque-Bera (JB):  } &    1.491  \\\\\n",
       "\\textbf{Skew:}          & -0.027 & \\textbf{  Prob(JB):          } &    0.474  \\\\\n",
       "\\textbf{Kurtosis:}      &  2.676 & \\textbf{  Cond. No.          } & 7.46e+03  \\\\\n",
       "\\bottomrule\n",
       "\\end{tabular}\n",
       "%\\caption{OLS Regression Results}\n",
       "\\end{center}\n",
       "\n",
       "Notes: \\newline\n",
       " [1] Standard Errors assume that the covariance matrix of the errors is correctly specified. \\newline\n",
       " [2] The condition number is large, 7.46e+03. This might indicate that there are \\newline\n",
       " strong multicollinearity or other numerical problems."
      ],
      "text/plain": [
       "<class 'statsmodels.iolib.summary.Summary'>\n",
       "\"\"\"\n",
       "                            OLS Regression Results                            \n",
       "==============================================================================\n",
       "Dep. Variable:                  trend   R-squared:                       0.554\n",
       "Model:                            OLS   Adj. R-squared:                  0.540\n",
       "Method:                 Least Squares   F-statistic:                     39.71\n",
       "Date:                Sat, 04 Nov 2023   Prob (F-statistic):           2.38e-50\n",
       "Time:                        23:32:18   Log-Likelihood:                -1779.2\n",
       "No. Observations:                 331   AIC:                             3580.\n",
       "Df Residuals:                     320   BIC:                             3622.\n",
       "Df Model:                          10                                         \n",
       "Covariance Type:            nonrobust                                         \n",
       "==============================================================================\n",
       "                 coef    std err          t      P>|t|      [0.025      0.975]\n",
       "------------------------------------------------------------------------------\n",
       "const       -273.1857     79.202     -3.449      0.001    -429.008    -117.363\n",
       "age           -0.0820      0.246     -0.333      0.739      -0.566       0.402\n",
       "sex          -22.7069      6.531     -3.477      0.001     -35.555      -9.859\n",
       "bmi            6.1158      0.815      7.508      0.000       4.513       7.718\n",
       "bp             0.8221      0.261      3.154      0.002       0.309       1.335\n",
       "s1            -0.5197      0.664     -0.782      0.435      -1.827       0.787\n",
       "s2             0.2341      0.606      0.386      0.699      -0.958       1.426\n",
       "s3            -0.2813      0.920     -0.306      0.760      -2.091       1.529\n",
       "s4             6.1964      6.894      0.899      0.369      -7.368      19.761\n",
       "s5            55.6786     17.871      3.116      0.002      20.519      90.838\n",
       "s6             0.2612      0.314      0.832      0.406      -0.357       0.879\n",
       "==============================================================================\n",
       "Omnibus:                        1.669   Durbin-Watson:                   1.964\n",
       "Prob(Omnibus):                  0.434   Jarque-Bera (JB):                1.491\n",
       "Skew:                          -0.027   Prob(JB):                        0.474\n",
       "Kurtosis:                       2.676   Cond. No.                     7.46e+03\n",
       "==============================================================================\n",
       "\n",
       "Notes:\n",
       "[1] Standard Errors assume that the covariance matrix of the errors is correctly specified.\n",
       "[2] The condition number is large, 7.46e+03. This might indicate that there are\n",
       "strong multicollinearity or other numerical problems.\n",
       "\"\"\""
      ]
     },
     "execution_count": 20,
     "metadata": {},
     "output_type": "execute_result"
    }
   ],
   "source": [
    "# 响应变量和自变量\n",
    "X_train = data_train.drop(columns = ['trend'],axis = 1)\n",
    "y_train = data_train['trend']\n",
    "\n",
    "X_test = data_test.drop(columns = [\"trend\"],axis=1)\n",
    "y_test = data_test['trend']\n",
    "\n",
    "# 对自变量标准化，对响应变量中心化\n",
    "X_train_standardized = preprocessing.scale(X_train, with_mean = True, with_std=True)/np.sqrt(n_train)\n",
    "y_train_centered = preprocessing.scale(y_train, with_mean = True, with_std=False)\n",
    "y_train_mean = np.average(y_train)\n",
    "X_test_standardized = preprocessing.scale(X_test, with_mean = True, with_std=True)/np.sqrt(n_test)\n",
    "\n",
    "#建立线性回归模型\n",
    "X_train_withintercept = sm.add_constant(X_train)\n",
    "model = sm.OLS(y_train,X_train_withintercept).fit()\n",
    "model.summary()"
   ]
  },
  {
   "cell_type": "markdown",
   "metadata": {},
   "source": [
    "## 4.判断用于建模的特征数据中是否存在多重共线性？提供合适的判断方案。"
   ]
  },
  {
   "cell_type": "code",
   "execution_count": 21,
   "metadata": {},
   "outputs": [
    {
     "data": {
      "text/plain": [
       "<Axes: >"
      ]
     },
     "execution_count": 21,
     "metadata": {},
     "output_type": "execute_result"
    },
    {
     "data": {
      "image/png": "[encoded data removed]",
      "text/plain": [
       "<Figure size 640x480 with 2 Axes>"
      ]
     },
     "metadata": {},
     "output_type": "display_data"
    }
   ],
   "source": [
    "pcorr = X_train.corr(method = 'pearson')\n",
    "tick_ = (np.arange(0,13,2)-2)/10\n",
    "dict_ = {\"orientation\":'vertical',\n",
    "         'label':'Correlation Coefficients',\n",
    "         \"drawedges\":False,\n",
    "         \"ticklocation\":\"top\",\n",
    "         \"extend\":\"min\",\n",
    "        \"filled\":True,\n",
    "         \"alpha\":0.8,\n",
    "         \"cmap\":\"cmap\",\n",
    "         \"ticks\":tick_}\n",
    "sns.heatmap(pcorr,cbar_kws= dict_,center=0)"
   ]
  },
  {
   "cell_type": "markdown",
   "metadata": {},
   "source": [
    "在热力图中，某格子颜色越浅说明这两个自变量之间的线性相关程度越大。\n",
    "\n",
    "观察可得，$s1$与$s2$、$s3$与$s4$、$s4$与$s5$对应格子的颜色较浅，这几对变量可能线性相关。\n",
    "\n",
    "数据中可能存在多重共线性，但总体来说程度应该并不严重。"
   ]
  },
  {
   "cell_type": "markdown",
   "metadata": {},
   "source": [
    "接下去我再用方差扩大因子法来检验数据中是否存在多重共线性。\n",
    "\n",
    "记$\\mathbf{X_s}$为标准化后的自变量，则矩阵$(\\mathbf{X_s}^T\\mathbf{X_s})^{-1}$的第$j$个对角线元素$c_{jj}$就是第$j$个自变量$x_{j}$的方差扩大因子。\n",
    "\n",
    "事实上，如果我们把$x_{j}$作为响应变量，其它自变量作为自变量建立线性回归模型，记$R_j$为其复决定系数，可以证明$$c_{jj}=\\frac{1}{1-R_j^2}$$由于$R_j$衡量$x_{j}$与其它自变量之间的线性相关性，$R_j$越大，方差扩大因子$c_{jj}$越大，自变量$x_{j}$与其它自变量的多重共线性就越严重。\n",
    "\n",
    "综上所述，只要这个方差扩大因子大于某一个特定的值(这里设为$5$)，我们就认为$x_j$与其它自变量之间存在多重共线性。\n",
    "\n",
    "下面，我们就来计算一下各个自变量的方差扩大因子。"
   ]
  },
  {
   "cell_type": "code",
   "execution_count": 22,
   "metadata": {},
   "outputs": [
    {
     "name": "stdout",
     "output_type": "stream",
     "text": [
      "The VIF's are [ 1.25  1.24  1.59  1.51 57.98 34.8  16.53  8.45 10.55  1.55]\n"
     ]
    }
   ],
   "source": [
    "C = np.linalg.inv(np.dot(X_train_standardized.T,X_train_standardized))\n",
    "VIF_1 = np.diag(C)\n",
    "print(\"The VIF's are\", np.round(VIF_1,2))"
   ]
  },
  {
   "cell_type": "markdown",
   "metadata": {},
   "source": [
    "也可以这样来计算方差扩大因子："
   ]
  },
  {
   "cell_type": "code",
   "execution_count": 23,
   "metadata": {},
   "outputs": [
    {
     "name": "stdout",
     "output_type": "stream",
     "text": [
      "The VIF's are [ 1.25  1.24  1.59  1.51 57.98 34.8  16.53  8.45 10.55  1.55]\n"
     ]
    }
   ],
   "source": [
    "VIF_2 = [variance_inflation_factor(X_train_standardized[:,0:p], i) for i in range(p)]\n",
    "print(\"The VIF's are\", np.round(VIF_2,2))"
   ]
  },
  {
   "cell_type": "markdown",
   "metadata": {},
   "source": [
    "还可以利用理论作业证明过的结论，即$\\text{VIF}_j = \\frac{1}{1-R_j^2}$来求解："
   ]
  },
  {
   "cell_type": "code",
   "execution_count": 44,
   "metadata": {},
   "outputs": [
    {
     "name": "stdout",
     "output_type": "stream",
     "text": [
      "The VIF of the first feature is 1.25\n"
     ]
    }
   ],
   "source": [
    "X1 = X_train_standardized[:,0]\n",
    "X2 = X_train_standardized[:,1:p]\n",
    "model_vif = sm.OLS(X1,X2).fit()\n",
    "X_1_VIF = 1/(1-model_vif.rsquared)\n",
    "print(\"The VIF of the first feature is\", np.round(X_1_VIF,2))"
   ]
  },
  {
   "cell_type": "markdown",
   "metadata": {},
   "source": [
    "在以上十个方差扩大因子中，$s1$和$s2$的方差扩大因子明显大于其它自变量的，也大于我们设定的临界值$5$。\n",
    "\n",
    "因此，我们认为用于建模的特征数据中存在多重共线性。"
   ]
  },
  {
   "cell_type": "markdown",
   "metadata": {},
   "source": [
    "然后我再用特征值法来判断数据中是否存在多重共线性。\n",
    "\n",
    "当某些自变量之间存在线性相关，$$\\mathbf{X_s}^T\\mathbf{X_s}\\approx 0$$所以$\\mathbf{X_s}^T\\mathbf{X_s}$必然有一些特征值非常接近于零。我们将自变量矩阵的条件数记为最大特征值比最小特征值的算数平方根，即$$\\kappa=\\sqrt{\\frac{\\lambda_1}{\\lambda_p}}$$\n",
    "\n",
    "这个条件数越大，就说明自变量的多重共线性就越严重。\n",
    "\n",
    "所以，当条件数大于某个特定的值，我们就认为自变量之间存在多重共线性。\n"
   ]
  },
  {
   "cell_type": "code",
   "execution_count": 24,
   "metadata": {},
   "outputs": [
    {
     "name": "stdout",
     "output_type": "stream",
     "text": [
      "The eigen values are [4.0729 1.5784 1.123  0.974  0.6887 0.5686 0.4683 0.4309 0.0864 0.0088]\n"
     ]
    }
   ],
   "source": [
    "#计算特征值\n",
    "R = np.dot(X_train_standardized.T,X_train_standardized)\n",
    "W, V = np.linalg.eig(R)\n",
    "W = -1* np.sort(-1*W)\n",
    "W_diag = np.diag(W)\n",
    "V = V.T\n",
    "print(\"The eigen values are\", np.round(W,4))"
   ]
  },
  {
   "cell_type": "code",
   "execution_count": 25,
   "metadata": {},
   "outputs": [
    {
     "name": "stdout",
     "output_type": "stream",
     "text": [
      "The condition number is 21.4921\n"
     ]
    }
   ],
   "source": [
    "Condition_Number = np.sqrt(np.max(W)/np.min(W))\n",
    "print(\"The condition number is\",np.round(Condition_Number,4))"
   ]
  },
  {
   "cell_type": "markdown",
   "metadata": {},
   "source": [
    "条件数的临界值通常为$10$，$100$或$1000$。\n",
    "\n",
    "如果临界值设置得比较小，我们就会认为这个模型存在多重共线性。\n",
    "\n",
    "我定义临界值为$10$,因为条件数大于临界值，故认为这个模型的自变量之间存在多重共线性。"
   ]
  },
  {
   "cell_type": "markdown",
   "metadata": {},
   "source": [
    "## 5.构建线性回归模型Model_1、岭回归模型Model_2、主成分回归模型Model_3。"
   ]
  },
  {
   "cell_type": "markdown",
   "metadata": {},
   "source": [
    "### 岭回归"
   ]
  },
  {
   "cell_type": "markdown",
   "metadata": {},
   "source": [
    "在岭回归模型中，我们对矩阵$\\mathbf{X^TX}$加上$k\\mathbf{I}$，从而使得得到的矩阵与原来的$\\mathbf{X^TX}$差别不大，并避免$\\mathbf{X^TX}$奇异。最终，我们得到的岭回归值就是$$\\hat{\\beta(k)}=(\\mathbf{X^TX}+k\\mathbf{I})^{-1}\\mathbf{X^Ty}$$\n",
    "显然，这个岭回归值是超参数$k$的函数。所以，我们首先要确定$k$的值，使得我们得到的岭回归值最优。我们来绘制岭迹图："
   ]
  },
  {
   "cell_type": "code",
   "execution_count": 27,
   "metadata": {},
   "outputs": [
    {
     "data": {
      "text/plain": [
       "<matplotlib.legend.Legend at 0x14d486a64d0>"
      ]
     },
     "execution_count": 27,
     "metadata": {},
     "output_type": "execute_result"
    },
    {
     "data": {
      "image/png": "[encoded data removed]",
      "text/plain": [
       "<Figure size 640x480 with 1 Axes>"
      ]
     },
     "metadata": {},
     "output_type": "display_data"
    }
   ],
   "source": [
    "alpha_num = 100\n",
    "alpha_vec = np.array(list(range(0,alpha_num)))/alpha_num/1000\n",
    "RR_coef = []\n",
    "RR_vif = []\n",
    "alpha  = 0.1\n",
    "\n",
    "for alpha in alpha_vec:\n",
    "    rr_model = sm.OLS(y_train_centered,X_train_standardized).fit_regularized(L1_wt=0,alpha = alpha)\n",
    "    rr_coef = rr_model.params\n",
    "    RR_coef.append(rr_coef)\n",
    "for i in range(p):\n",
    "    plt.plot(alpha_vec, np.array(RR_coef)[:,i],label = \"X%d\"%(i+1))\n",
    "\n",
    "plt.axis([-0.00005,0.001,-500,600])    \n",
    "plt.legend(loc=\"right\",bbox_to_anchor=(1.25,0.5),borderaxespad=1)"
   ]
  },
  {
   "cell_type": "markdown",
   "metadata": {},
   "source": [
    "实际上，岭迹就是岭估计$\\hat{\\beta(k)}$中的各个分量，岭迹图就是岭迹与$k$之间的函数图像。\n",
    "\n",
    "我们需要观察$k$为何值时各个回归系数的岭估计趋于稳定且符号合理。\n",
    "\n",
    "但是这种方法完全依靠对图像的观察，太过主观。所以，我们用方差扩大因子法确定最优的超参数$k$。\n",
    "\n",
    "这里我们用方差扩大因子法，找到合适的$k$使得岭估计的方差扩大因子都小于某个特定的值，并由这个$k$值得到$\\beta$的岭回归估计。"
   ]
  },
  {
   "cell_type": "code",
   "execution_count": 29,
   "metadata": {},
   "outputs": [
    {
     "name": "stdout",
     "output_type": "stream",
     "text": [
      "The best alpha is 2.9999999999999997e-05\n",
      "The parameters in the ridge regression are  [ -19.13 -203.68  499.8   204.21 -154.47   -0.74 -140.48  119.62  470.45\n",
      "   57.16]\n"
     ]
    }
   ],
   "source": [
    "#找到最优的超参数\n",
    "vif_cv = 5\n",
    "C_k = []\n",
    "for alpha in alpha_vec:\n",
    "    k = alpha * n_train\n",
    "    c_k = np.linalg.inv(X_train_standardized.T @ X_train_standardized + k * np.eye(p)) @ X_train_standardized.T @ X_train_standardized @ np.linalg.inv(X_train_standardized.T @ X_train_standardized + k * np.eye(p))\n",
    "    C_k.append(np.mean(np.diag(c_k)))\n",
    "\n",
    "\n",
    "alpha_best = alpha_vec[np.min(np.where(np.array(C_k) < vif_cv))]\n",
    "print(\"The best alpha is\", alpha_best)\n",
    "#根据这个最优的超参数进行岭估计\n",
    "model_rr_best = sm.OLS(y_train_centered,X_train_standardized).fit_regularized(L1_wt=0,alpha = alpha_best)\n",
    "model_rr_best_coef = model_rr_best.params\n",
    "print(\"The parameters in the ridge regression are \",np.round(model_rr_best.params,2))"
   ]
  },
  {
   "cell_type": "markdown",
   "metadata": {},
   "source": [
    "### 主成分回归"
   ]
  },
  {
   "cell_type": "markdown",
   "metadata": {},
   "source": [
    "接下来我们再来构建主成分回归模型。\n",
    "\n",
    "主成分回归的思想就是，用更少的、线性无关的自变量来代替原来存在多重共线性的自变量，并构建线性回归模型。新的自变量组合要包含原来的自变量所携带的绝大部分信息。\n",
    "\n",
    "如果一个主成分还不足以代表绝大部分原来的自变量的信息，我们要寻找更多的主成分。\n",
    "\n",
    "最终要找多少个主成分，是主成分回归中的超参数。我们应该先来确定这个超参数。\n",
    "\n",
    "通过观察每添加一个主成分之后信息量增加了多少，来直观判断到底要不要继续添加主成分。"
   ]
  },
  {
   "cell_type": "code",
   "execution_count": 30,
   "metadata": {},
   "outputs": [
    {
     "data": {
      "image/png": "[encoded data removed]",
      "text/plain": [
       "<Figure size 640x480 with 1 Axes>"
      ]
     },
     "metadata": {},
     "output_type": "display_data"
    }
   ],
   "source": [
    "# 计算特征值\n",
    "model_pca = PCA(X_train_standardized,standardize = False, demean = True)\n",
    "model_pca_cr = model_pca.eigenvals\n",
    "# 计算信息增量，计算累计贡献率\n",
    "model_pca_ccr = np.cumsum(model_pca_cr)/p \n",
    "fig = model_pca.plot_scree(log_scale = False)"
   ]
  },
  {
   "cell_type": "markdown",
   "metadata": {},
   "source": [
    "可见，在添加了第8个主成分之后再继续添加，信息量的增量就近乎于零了。\n",
    "\n",
    "接着，我们来精确地计算添加几个主成分，主成分的信息贡献率之和能够达到某个特定的值（如$0.95$）。"
   ]
  },
  {
   "cell_type": "code",
   "execution_count": 34,
   "metadata": {},
   "outputs": [
    {
     "name": "stdout",
     "output_type": "stream",
     "text": [
      "The appropriate number of component is 8\n"
     ]
    }
   ],
   "source": [
    "pca_cv = 0.95\n",
    "num_pca = np.min(np.where(model_pca_ccr > pca_cv))\n",
    "print(\"The appropriate number of component is\", (num_pca+1))"
   ]
  },
  {
   "cell_type": "markdown",
   "metadata": {},
   "source": [
    "可见，我们只需要添加八个主成分就足以得到原来的自变量的绝大多数信息了。\n",
    "\n",
    "这和刚刚的直观判断一致。接着，我们构建八个主成分并将它们作为自变量构建线性回归模型，求出参数的估计值："
   ]
  },
  {
   "cell_type": "code",
   "execution_count": 36,
   "metadata": {},
   "outputs": [
    {
     "name": "stdout",
     "output_type": "stream",
     "text": [
      "[-136.49522183  168.42164775   51.28339556  -26.8768207   641.23815335\n",
      "  142.50413339 -161.00098755  183.08636922  193.76510573   53.03085155]\n"
     ]
    }
   ],
   "source": [
    "model_pca_selected = PCA(X_train_standardized,  standardize = False,  demean = True)\n",
    "V = model_pca_selected.loadings\n",
    "Z_train_standardized= X_train_standardized @ V[:,0:(num_pca+1)]\n",
    "model_pcr = sm.OLS(y_train_centered, Z_train_standardized).fit()\n",
    "model_pcr_coef = V.T @ np.pad(model_pcr.params,(0,p-(num_pca+1)))\n",
    "print(model_pcr_coef)"
   ]
  },
  {
   "cell_type": "markdown",
   "metadata": {},
   "source": [
    "## 6.利用RMSE，比较Model_1、Model_2、Model_3在测试集上的预测效果。请进行评论。"
   ]
  },
  {
   "cell_type": "markdown",
   "metadata": {},
   "source": [
    "最后，我们就要在训练集上检验以上三种模型的预测效果了，评判的指标是训练集预测值和训练集真实值之间的均方误差$$RMSE = \\sqrt{\\frac{1}{n}\\sum_{i=1}^n (\\hat{y}_i - y_i)^2}$$显然，当$RMSE$越小，该模型预测的准确度越高。\n"
   ]
  },
  {
   "cell_type": "markdown",
   "metadata": {},
   "source": [
    "### 线性回归模型"
   ]
  },
  {
   "cell_type": "code",
   "execution_count": 38,
   "metadata": {},
   "outputs": [
    {
     "name": "stdout",
     "output_type": "stream",
     "text": [
      "The RMSE in the ordinary regression is 72.2477\n"
     ]
    }
   ],
   "source": [
    "model_ols = sm.OLS(y_train_centered,X_train_standardized).fit()\n",
    "model_ols_coef = model_ols.params \n",
    "y_pred_ols = y_train_mean + X_test_standardized @ model_ols_coef\n",
    "ols_rmse = np.sqrt(np.mean((y_pred_ols-y_test)**2))\n",
    "print(\"The RMSE in the ordinary regression is\", round(ols_rmse,4))"
   ]
  },
  {
   "cell_type": "markdown",
   "metadata": {},
   "source": [
    "### 岭回归模型"
   ]
  },
  {
   "cell_type": "code",
   "execution_count": 40,
   "metadata": {},
   "outputs": [
    {
     "name": "stdout",
     "output_type": "stream",
     "text": [
      "The RMSE in the ridge regression is 72.209\n"
     ]
    }
   ],
   "source": [
    "y_pred_rr = y_train_mean + X_test_standardized @ model_rr_best_coef\n",
    "rr_rmse = np.sqrt(np.mean((y_pred_rr-y_test)**2))\n",
    "print(\"The RMSE in the ridge regression is\", round(rr_rmse,4))"
   ]
  },
  {
   "cell_type": "markdown",
   "metadata": {},
   "source": [
    "### 主成分回归模型"
   ]
  },
  {
   "cell_type": "code",
   "execution_count": 41,
   "metadata": {},
   "outputs": [
    {
     "name": "stdout",
     "output_type": "stream",
     "text": [
      "The RMSE in the ordinary regression is 111.1978\n"
     ]
    }
   ],
   "source": [
    "y_pred_pcr = y_train_mean + X_test_standardized @ model_pcr_coef\n",
    "pcr_rmse = np.sqrt(np.mean((y_pred_pcr-y_test)**2))\n",
    "print(\"The RMSE in the ordinary regression is\", round(pcr_rmse,4))"
   ]
  },
  {
   "cell_type": "markdown",
   "metadata": {},
   "source": [
    "我们看到，岭回归模型的$RMSE$值最小，线性回归模型的$RMSE$略大于岭回归模型的，而主成分回归模型的$RMSE$显著大于另外两者。可见在这个数据集上最好还是不要使用主成分回归模型，而且岭回归模型的优势并不明显。\n",
    "\n",
    "如果要说我的猜想，我觉得可能是因为这个数据集多重共线性程度不算高，就没有很大的必要去用几个主成分去替代原来的自变量了。十个因素都会对模型提供一定量的信息，删去其中的一些有信息丢失的风险。\n",
    "\n",
    "然后，岭回归估计和线性回归模型类似的原因可能在于$\\mathbf{X^TX}+k\\mathbf{I}$与$\\mathbf{X^TX}$的差别不算大。"
   ]
  },
  {
   "cell_type": "code",
   "execution_count": null,
   "metadata": {},
   "outputs": [],
   "source": []
  }
 ],
 "metadata": {
  "kernelspec": {
   "display_name": "Python 3 (ipykernel)",
   "language": "python",
   "name": "python3"
  },
  "language_info": {
   "codemirror_mode": {
    "name": "ipython",
    "version": 3
   },
   "file_extension": ".py",
   "mimetype": "text/x-python",
   "name": "python",
   "nbconvert_exporter": "python",
   "pygments_lexer": "ipython3",
   "version": "3.10.9"
  }
 },
 "nbformat": 4,
 "nbformat_minor": 2
}
