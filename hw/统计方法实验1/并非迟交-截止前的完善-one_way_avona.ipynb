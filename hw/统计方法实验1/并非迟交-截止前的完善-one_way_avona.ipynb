{
 "cells": [
  {
   "cell_type": "markdown",
   "id": "fd739431",
   "metadata": {},
   "source": [
    "# 《统计方法与机器学习》实践作业1\n",
    "\n",
    "10211900416 郭夏辉"
   ]
  },
  {
   "cell_type": "markdown",
   "id": "bad76bc5-c48b-4feb-b2c5-5ed8999a4f9a",
   "metadata": {},
   "source": [
    "Due Day: 2023.10.04\n",
    "## 背景描述\n",
    "\n",
    "为了调查吃巧克力对心血管健康的影响，实验由三种类型的巧克力组成：100g的黑巧克力，含有200mg全脂牛奶的100g黑巧克力和200g的牛奶巧克力。12个实验对象：7女5男。在不同的天数里，每个实验对象将吃一种类型的巧克力，一个小时后测量他们血浆的总抗氧能力。\n",
    "\n",
    "## 数据描述\n",
    "\n",
    "实验次序本身具有随机性，无需再随机化。请使用Project_1.csv中的数据集。数据字典如下表所示。\n",
    "\n",
    "|  变量名   |  变量含义  | 变量类型 | 变量取值范围 |\n",
    "| :-------: | :--------: | :------: | :----------: |\n",
    "| Chocolate | 巧克力类型 | 分类变量 | \\{1, 2, 3\\}  |\n",
    "| Capacity  |  血浆浓度  | 连续变量 |      R       |"
   ]
  },
  {
   "cell_type": "markdown",
   "id": "53d4f0fc-d1d6-4d56-aa80-56233f7ede72",
   "metadata": {},
   "source": [
    "## 问题\n",
    "\n",
    "注： 显著性水平$\\alpha$取 0.05。\n",
    "\n",
    "1. 两两比较 3 种巧克力对心血管健康的影响是否存在差异。\n",
    "2. 判断 3 种巧克力对心血管健康的影响是否有差异。\n",
    "3. 试说明所使用模型的合理性。\n",
    "4. 估计食用这 3 种巧克力一小时后血浆的总抗氧能力。请分别给出点估计和区间估计。\n",
    "5. 用Bonferroni方法比较吃了 3 种巧克力后，一个小时的血浆总抗氧能力两两是否存在差异。\n",
    "6. 用Tukey方法比较吃了 3 种巧克力后，一个小时的血浆总抗氧能力两两是否存在差异。采用以下两种不同的方法来解决这个问题：\n",
    "\n",
    "- 直接调用python中现有函数；\n",
    "- 用蒙特卡洛随机模拟分布的方式，确定 t 化极差统计量的分位数 $q_{1-\\alpha}(a, df)$，计算临界值(critical value) $c = q_{1-\\alpha}(a, df) \\hat{\\sigma}/\\sqrt{m}$。\n",
    "\n",
    "7. 基于这个例子，请评述一下Bonferroni方法和Tukey方法的异同。"
   ]
  },
  {
   "cell_type": "code",
   "execution_count": 1,
   "id": "d9ba3a18-7e02-4f65-8d1f-1c5ce0d83595",
   "metadata": {},
   "outputs": [],
   "source": [
    "import os # 修改工作目录\n",
    "\n",
    "import numpy as np\n",
    "import pandas as pd\n",
    "import scipy.stats as stats # 统计函数\n",
    "import matplotlib.pyplot as plt\n",
    "from plotnine import * # ggplot 绘图\n",
    "from plotnine.data import mpg\n",
    "\n",
    "\n",
    "import math\n",
    "\n",
    "import statsmodels.api as sm\n",
    "from statsmodels.formula.api import ols\n",
    "from statsmodels.stats.anova import anova_lm\n",
    "from scipy.stats import f\n",
    "from scipy.stats import t\n",
    "from statsmodels.stats.stattools import durbin_watson\n",
    "from statsmodels.stats.multicomp import pairwise_tukeyhsd"
   ]
  },
  {
   "cell_type": "code",
   "execution_count": 2,
   "id": "52e873e1-a3d7-4cef-b158-ac0773ce88d6",
   "metadata": {},
   "outputs": [],
   "source": [
    "alpha = 0.05 # 显著性水平\n",
    "a = 3 # 水平数\n",
    "m = 12 # 重复次数\n",
    "n = a*m # 样本量\n",
    "\n",
    "Data = pd.read_csv(\"Project_1.csv\")"
   ]
  },
  {
   "cell_type": "markdown",
   "id": "ee716273-32ef-417a-9138-9ee383b38e19",
   "metadata": {},
   "source": [
    "## 问题1：两两比较 3 种巧克力对心血管健康的影响是否存在差异。"
   ]
  },
  {
   "cell_type": "markdown",
   "id": "3156442a-5286-44f9-871f-b690afd71067",
   "metadata": {},
   "source": [
    "### 拒绝域法"
   ]
  },
  {
   "cell_type": "markdown",
   "id": "2773856a-ab5f-4b53-9906-be45c68d7e0d",
   "metadata": {},
   "source": [
    "假设某一种巧克力吃完之后一小时后血浆浓度为$x_1,x_2,...x_m$\n",
    "\n",
    "另一种巧克力吃完之后一小时后血浆浓度为$y_1,y_2,...y_n$\n",
    "\n",
    "这两组数据来自两个方差相等的独立正态分布，我们为了比较这两种数据是否存在差异，主要就是在比较它们的均值${\\mu}_1$和${\\mu}_2$，假设检验的问题为：\n",
    "$H_0: {\\mu}_1={\\mu}_2$   vs   $H_1: {\\mu}_1 \\not= {\\mu}_2$\n",
    "\n",
    "根据概率论与数理统计中的所学知识:\n",
    "\n",
    "$\\frac{(\\bar{x}-\\bar{y})-({\\mu}_1-{\\mu}_2)}{s_w \\sqrt{\\frac{1}{m} + \\frac{1}{n}} } \\sim t(m+n-2)$\n",
    "\n",
    "其中$s_w^2 = \\frac{m-1}{m+n-2}s_x^2 + \\frac{n-1}{m+n-2}s_y^2  $\n",
    "\n",
    "然后检验统计量构造为$t=\\frac{(\\bar{x}-\\bar{y})}{s_w \\sqrt{\\frac{1}{m} + \\frac{1}{n}} }$\n",
    "\n",
    "由于 $m=n$ 可以简化$t$为\n",
    "\n",
    "$t=\\frac{\\bar{x}-\\bar{y}}{ \\sqrt{ \\frac{1}{m} (s_x^2 + s_y^2) } }$\n",
    "\n",
    "拒绝域为\n",
    "\n",
    "$\\{|t|>t_{1 − {\\alpha}/2}(2m−2)\\}$\n",
    "\n",
    "\n",
    "落入拒绝域就拒绝原假设，则认为两种巧克力对心血管健康的影响存在差异；否则认为不存在差异。\n",
    "\n",
    "然后这个题目要求的是两两比较，所以只用分3种情况两两去比就行。"
   ]
  },
  {
   "cell_type": "code",
   "execution_count": 3,
   "id": "5a89f2aa-89af-486e-9f6a-ac3a9607e647",
   "metadata": {},
   "outputs": [
    {
     "name": "stdout",
     "output_type": "stream",
     "text": [
      "落入拒绝域，样本1和2存在差异\n",
      "落入接受域，样本2和3不存在差异\n",
      "落入拒绝域，样本1和3存在差异\n",
      "t_val= 2.0738730679040147\n",
      "|t12|= 11.10565260090929  |t23|= 0.4126071170622644  |t13|= 12.047774079768462\n"
     ]
    }
   ],
   "source": [
    "data1 = Data[['Chocolate','Capacity']] # 选择几列\n",
    "data1.columns =  ['Chocolate', 'Capacity']\n",
    "data1tmp = data1.values\n",
    "# 在每行的第一列的元素等于x时，将这一行的第二列的元素(数据)取出来\n",
    "group = [data1tmp[data1tmp[:,0] == x,1] for x in [1, 2, 3]] \n",
    "#print(group)\n",
    "\n",
    "# 两样本t检验\n",
    "t12, p12 = stats.ttest_ind(group[0], group[1]) #样本1和2\n",
    "t23, p23 = stats.ttest_ind(group[1], group[2]) #样本2和3\n",
    "t13, p13 = stats.ttest_ind(group[0], group[2]) #样本1和3\n",
    "t_val = t.ppf(1-alpha/2,2*(m-1)) #分位数\n",
    "\n",
    "if abs(t12) > t_val:\n",
    "    print('落入拒绝域，样本1和2存在差异')\n",
    "else:\n",
    "    print('落入接受域，样本1和2不存在差异')\n",
    "\n",
    "if abs(t23) > t_val:\n",
    "    print('落入拒绝域，样本2和3存在差异')\n",
    "else:\n",
    "    print('落入接受域，样本2和3不存在差异')\n",
    "\n",
    "if abs(t13) > t_val:\n",
    "    print('落入拒绝域，样本1和3存在差异')\n",
    "else:\n",
    "    print('落入接受域，样本1和3不存在差异')\n",
    "    \n",
    "print(\"t_val=\",t_val)\n",
    "print(\"|t12|=\",abs(t12),\" |t23|=\",abs(t23),\" |t13|=\",abs(t13))"
   ]
  },
  {
   "cell_type": "markdown",
   "id": "bd6bef2a-e4ed-49a4-9d51-a09cf36ad972",
   "metadata": {},
   "source": [
    "### p值法"
   ]
  },
  {
   "cell_type": "code",
   "execution_count": 4,
   "id": "16d5fd0d-307a-4dd1-b2c4-16d47b5ce85d",
   "metadata": {},
   "outputs": [
    {
     "name": "stdout",
     "output_type": "stream",
     "text": [
      "落入拒绝域，样本1和2存在差异\n",
      "落入接受域，样本2和3不存在差异\n",
      "落入拒绝域，样本1和3存在差异\n",
      "p12= 1.733093968209115e-10 p23= 0.6838877988482657 p13= 3.683389152570871e-11\n"
     ]
    }
   ],
   "source": [
    "if p12 < alpha:\n",
    "    print('落入拒绝域，样本1和2存在差异')\n",
    "else:\n",
    "    print('落入接受域，样本1和2不存在差异')\n",
    "\n",
    "if p23 < alpha:\n",
    "    print('落入拒绝域，样本2和3存在差异')\n",
    "else:\n",
    "    print('落入接受域，样本2和3不存在差异')\n",
    "\n",
    "if p13 < alpha:\n",
    "    print('落入拒绝域，样本1和3存在差异')\n",
    "else:\n",
    "    print('落入接受域，样本1和3不存在差异')\n",
    "    \n",
    "print(\"p12=\",p12,\"p23=\",p23,\"p13=\",p13)"
   ]
  },
  {
   "cell_type": "markdown",
   "id": "1af3eb4c",
   "metadata": {},
   "source": [
    "综上，只有类型2与3巧克力对心血管健康的影响不存在显著差异，类型1与3、类型1与2对心血管健康的影响存在显著差异"
   ]
  },
  {
   "cell_type": "markdown",
   "id": "eb158cec-7b86-4fdd-8796-c87c01d557a6",
   "metadata": {},
   "source": [
    "## 问题2：判断 3 种巧克力对心血管健康的影响是否有差异。"
   ]
  },
  {
   "cell_type": "markdown",
   "id": "4b8109b4-6621-45eb-abc0-3dd66b6b2112",
   "metadata": {},
   "source": [
    "### F检验统计量与单因子方差分析表"
   ]
  },
  {
   "cell_type": "markdown",
   "id": "214c6af2-0db8-4074-bbf7-38ceb15bfef7",
   "metadata": {},
   "source": [
    "假设检验的问题转化为了\n",
    "\n",
    "$H_0: {\\mu}_1={\\mu}_2={\\mu}_3$ vs $H_1: {\\mu}_1,{\\mu}_2,{\\mu}_3中存在一对是不相等的$\n",
    "\n",
    "根据课程内容，利用单因子方差分析:\n",
    "\n",
    "$\\frac{SS_E}{{\\sigma}^2}\\sim {\\chi}^2 (n-a)$\n",
    "\n",
    "$H_0$成立时，有:\n",
    "\n",
    "$\\frac{SS_A}{{\\sigma}^2} \\sim {\\chi}^2 (a-1)$\n",
    "\n",
    "$SS_A$与$SS_E$相互独立，$F=\\frac{\\frac{SS_A}{a-1}}{\\frac{SS_E}{n-a}} \\sim F(a-1,n-a)$ 这个F可以作为检验统计量\n",
    "\n",
    "然后，可以得到拒绝域是${F \\geq F_{1-{\\alpha}}(a-1,n-a)}$\n",
    "\n",
    "我们只要得到对应的单因子方差分析表即可很好地比较。"
   ]
  },
  {
   "cell_type": "code",
   "execution_count": 5,
   "id": "89f224a4-0fc2-450f-a1c3-e764aa63bd8b",
   "metadata": {},
   "outputs": [
    {
     "name": "stdout",
     "output_type": "stream",
     "text": [
      "单因子方差分析表：\n",
      "                 df     sum_sq   mean_sq        F  PR(>F)\n",
      "C(Chocolate)   2.0  1952.6439  976.3219  93.5756     0.0\n",
      "Residual      33.0   344.3058   10.4335      NaN     NaN\n",
      "F_val =  3.2849176510382883 F =  93.57559776071176\n",
      "落入拒绝域,拒绝H0,3种巧克力中是有差异的\n"
     ]
    }
   ],
   "source": [
    "model = ols('Capacity ~ C(Chocolate)', data1).fit()\n",
    "result2 = round(anova_lm(model), 4)\n",
    "F, p0 = stats.f_oneway(group[0],group[1],group[2])\n",
    "print('单因子方差分析表：\\n', result2)\n",
    "F_val = f.ppf(1 - alpha,dfn=a-1,dfd=n-a)\n",
    "\n",
    "print('F_val = ',F_val,'F = ',F)\n",
    "if F > F_val:\n",
    "    print('落入拒绝域,拒绝H0,3种巧克力中是有差异的')\n",
    "else:\n",
    "    print('落入接受域,接受H0,3种巧克力可以认为没有差异')"
   ]
  },
  {
   "cell_type": "markdown",
   "id": "1f88d4ac-9c0e-42af-9967-665715665253",
   "metadata": {},
   "source": [
    "### p值法"
   ]
  },
  {
   "cell_type": "code",
   "execution_count": 6,
   "id": "2ab27181-cce8-4906-b7bb-4e9079246556",
   "metadata": {},
   "outputs": [
    {
     "name": "stdout",
     "output_type": "stream",
     "text": [
      "落入拒绝域,拒绝H0,3种巧克力中是有差异的\n"
     ]
    }
   ],
   "source": [
    "if p0 < alpha:\n",
    "    print('落入拒绝域,拒绝H0,3种巧克力中是有差异的')\n",
    "else:\n",
    "    print('落入接受域,接受H0,3种巧克力可以认为没有差异')"
   ]
  },
  {
   "cell_type": "markdown",
   "id": "250bd73e-e55b-48ec-9ac3-6a366392c860",
   "metadata": {},
   "source": [
    "## 问题3：试说明所使用模型的合理性。"
   ]
  },
  {
   "cell_type": "markdown",
   "id": "fdb5e0eb",
   "metadata": {},
   "source": [
    "单因子方差分析模型中：\n",
    "\n",
    "$y_{ij} = \\mu + \\alpha_i + \\epsilon_{ij}$ 的误差 $\\epsilon_{ij}$ 服从正态独立分布，其均值为零，方差为未知常数$\\sigma^2$。 \n",
    "\n",
    "想要判断ANOVA模型是否恰当，可以利用残差检测来进行分析。  \n",
    "处理 $i$ 的观测值 $j$ 的残差定义为：$e_{ij} = y_{ij} - \\hat{y}_{ij}$ \n",
    "\n",
    "其中$\\hat{y}_{ij}$是对$y_{ij}$的一个估计： \n",
    "$\\hat{y}_{ij} = \\hat{\\mu} + \\hat{\\alpha}_i = \\overline{y}_{··} + (\\overline{y}_{i·} - \\overline{y}_{··}) = \\overline{y}_{i·}$"
   ]
  },
  {
   "cell_type": "markdown",
   "id": "7341f42d",
   "metadata": {},
   "source": [
    "### 1正态性检验"
   ]
  },
  {
   "cell_type": "markdown",
   "id": "0f2edf50",
   "metadata": {},
   "source": [
    "#### qq图\n",
    "\n",
    "利用qq图（The quantitle-quantile plot），来检验数据分布的相似性。令X轴为正态分布的分位数，Y轴为样本分位数。假如这两者构成的点分布在一条直线上，就证明样本数据与正态分布存在线性相关性，即服从正态分布。"
   ]
  },
  {
   "cell_type": "code",
   "execution_count": 7,
   "id": "2589be0d",
   "metadata": {},
   "outputs": [
    {
     "data": {
      "image/png": "[encoded data removed]",
      "text/plain": [
       "<Figure size 640x480 with 1 Axes>"
      ]
     },
     "metadata": {},
     "output_type": "display_data"
    }
   ],
   "source": [
    "# 先计算残差\n",
    "data1tmp2 = data1tmp * 1\n",
    "for k in [1,2,3]:\n",
    "    groups = data1tmp2[data1tmp2[:,0] == k,1] # y_ij\n",
    "    data1tmp2[data1tmp2[:,0] == k,1] = groups - np.mean(groups) # e_ij\n",
    "res = data1tmp2[:, 1]\n",
    "\n",
    "# 再用qq图进行正态性检验\n",
    "res = res.astype(float) * 1\n",
    "osm,osr = stats.probplot(res, dist = 'norm', plot = plt)\n",
    "\n",
    "x1 = osm[0][0]\n",
    "y1 = osm[1][0]\n",
    "plt.text(x1, y1, '%.2f' % float(y1), ha = 'center', va = 'bottom',fontsize = 9)\n",
    "\n",
    "x2 = osm[0][-1]\n",
    "y2 = osm[1][-1]\n",
    "plt.text(x2, y2, '%.2f' % float(y2), ha = 'center', va = 'bottom',fontsize = 9)\n",
    "\n",
    "plt.grid()\n",
    "plt.show()"
   ]
  },
  {
   "cell_type": "markdown",
   "id": "e26b42d8",
   "metadata": {},
   "source": [
    "由上图可以看出，总体上来看，误差的分布近似正态\n",
    "\n",
    "在中位数以下时，正态性并不是很好。中位数以上，数据较为满足正态性。\n",
    "\n",
    "在样本数量较少时，采用qq图可能不太准确。"
   ]
  },
  {
   "cell_type": "markdown",
   "id": "5b6391cf",
   "metadata": {},
   "source": [
    "#### Shapiro-Wilk检验\n",
    "SW检验有两个基本假设\n",
    "\n",
    "H0：样本中所有来自总体分布服从正态分布 vs H1：样本中所有来自总体分布不服从正态分布 \n",
    "\n",
    "利用方法stats.shapiro()检验正态性，输出结果中第一个为统计量，第二个为P值\n",
    "\n",
    "（统计量越接近 1 越表明数据和正态分布拟合的好，P值大于指定的显著性水平，接受原假设，认为样本来自服从正态分布的总体）\n",
    "\n",
    "SW检验是适用于小样本的。\n"
   ]
  },
  {
   "cell_type": "code",
   "execution_count": 8,
   "id": "0c1e7ff1",
   "metadata": {},
   "outputs": [
    {
     "name": "stdout",
     "output_type": "stream",
     "text": [
      "0.9625398516654968\n",
      "0.257159024477005\n",
      "接受H0\n"
     ]
    }
   ],
   "source": [
    "# SW检验\n",
    "SW, pVal1 = stats.shapiro(res)\n",
    "print(SW)\n",
    "print(pVal1)\n",
    "\n",
    "if pVal1 > alpha:\n",
    "    print('接受H0')\n",
    "else:\n",
    "    print('p-value < alpha, 落入拒绝域，拒绝H0') "
   ]
  },
  {
   "cell_type": "markdown",
   "id": "1cbb7bec",
   "metadata": {},
   "source": [
    "根据实际结果，统计量SW为 0.96，接近 1\n",
    "且P值为 0.26，大于指定的显著性水平 0.05。\n",
    "故认为残差来自服从正态分布的总体。 "
   ]
  },
  {
   "cell_type": "markdown",
   "id": "2219eede",
   "metadata": {},
   "source": [
    "### 2方差齐性检验"
   ]
  },
  {
   "cell_type": "markdown",
   "id": "1fafaf09",
   "metadata": {},
   "source": [
    "#### Bartlett检验\n",
    "\n",
    "在Bartlett检验中，所使用的检验统计量为\n",
    "$$\n",
    "\\chi_0^2 = 2.3026 \\frac{q}{c}\n",
    "$$\n",
    "其中，\n",
    "- $ q = (n - a) \\log_{10}s_p^2 - \\sum_{i=1}^a (m_i-1)  \\log_{10}s_i^2 $；\n",
    "- $c = 1 + \\frac{1}{3(a-1)}\\left( \\sum_{i=1}^a (m_i-1)^{-1} - (n-a)^{-1} \\right)$；\n",
    "- $s_p^2 = \\frac{\\sum_{i}  (m_i-1)s^2_i}{n-a}$；\n",
    "- $s_i^2$ 表示第$i$组数据的样本方差。\n",
    "\n",
    "注意到，如果样本方差$s_i^2$差异大，那么$q$非常大；如果样本方差$s_i^2$完全一致，那么$q$为零。基于这个想法，如果检验统计量$\\chi_0^2$过大，那么我们就拒绝原假设。具体来说，我们拒绝原假设当且仅当\n",
    "$$\n",
    "\\chi_0^2 > \\chi_{1-\\alpha,a-1}^2\n",
    "$$\n",
    "其中$\\chi_{1-\\alpha,a-1}^2$是自由度为$a-1$的卡方分布的$1-\\alpha$分位数。\n",
    "\n",
    "\n",
    "然而，Bartlett检验存在一个**缺陷**：Bartlett检验对正态分布假定非常敏感。如果数据背离正态性假定，建议不要使用Bartlett检验。"
   ]
  },
  {
   "cell_type": "code",
   "execution_count": 9,
   "id": "5411391b",
   "metadata": {},
   "outputs": [
    {
     "name": "stdout",
     "output_type": "stream",
     "text": [
      "Bartlett检验统计量： 0.42469835124064104\n",
      "Bartlett检验的P值为： 0.8086822761266198\n",
      "𝜒_(1-𝛼,𝑎−1)^2:  5.991464547107979\n",
      "接受 H0\n",
      "接受 H0\n"
     ]
    }
   ],
   "source": [
    "# Bartlett检验\n",
    "bart, pVal2 = stats.bartlett(group[0], group[1], group[2])\n",
    "bart1 = stats.chi2.ppf(1-alpha, a-1)\n",
    "\n",
    "# Bartlett检验统计量\n",
    "print('Bartlett检验统计量：', bart)\n",
    "print('Bartlett检验的P值为：', pVal2)\n",
    "print('𝜒_(1-𝛼,𝑎−1)^2: ',bart1)\n",
    "\n",
    "if bart > bart1:\n",
    "    print('𝜒_0^2 > 𝜒_(𝛼,𝑎−1)^2,落入拒绝域，拒绝 H0.')\n",
    "else:\n",
    "    print('接受 H0')  \n",
    "    \n",
    "# p值法\n",
    "if pVal2 < alpha:\n",
    "    print('p-value < alpha,落入拒绝域，拒绝 H0.')\n",
    "else:\n",
    "    print('接受 H0')  "
   ]
  },
  {
   "cell_type": "markdown",
   "id": "beb783eb",
   "metadata": {},
   "source": [
    "由结果可知，Bartlett检验的P值远远大于 0.05 \n",
    "\n",
    "并且Bartlett检验统计量小于5.99\n",
    "\n",
    "故接受原假设，即残差具有方差齐性"
   ]
  },
  {
   "cell_type": "markdown",
   "id": "a3e107bd",
   "metadata": {},
   "source": [
    "#### Levene检验"
   ]
  },
  {
   "cell_type": "markdown",
   "id": "272a5494",
   "metadata": {},
   "source": [
    "因为 Bartlett 对正态性假定的敏感性，所以对于背离正态性的数据，可以通过修正后的 Levene 检验来解决这个问题。令\n",
    "$$\n",
    "y_{ij}^{\\ast} = |y_{ij} - \\tilde{y}_{i}|, i = 1,2,\\cdots,a; j = 1,2,\\cdots,n_i.\n",
    "$$\n",
    "其中，$\\tilde{y}_{i}$表示第$i$组数据的中位数。基于$\\{y_{ij}^{\\ast}\\}$来构建$F$统计量。这个统计量可以用来评价每组数据的绝对偏差的均值是否相等，从而可以判断每组数据的波动是否一致。"
   ]
  },
  {
   "cell_type": "code",
   "execution_count": 10,
   "id": "5af5eaf5",
   "metadata": {},
   "outputs": [
    {
     "name": "stdout",
     "output_type": "stream",
     "text": [
      "Levene检验统计量： 0.021277420918676362\n",
      "Levene检验的P值为： 0.9789607652073091\n",
      "接受 H0\n"
     ]
    }
   ],
   "source": [
    "# Levene检验\n",
    "lene, pVal3 = stats.levene(group[0], group[1], group[2])\n",
    "print('Levene检验统计量：', lene)\n",
    "print('Levene检验的P值为：', pVal3)\n",
    "if pVal3 < alpha:\n",
    "    print('p-value < alpha,落入拒绝域，拒绝 H0.')\n",
    "else:\n",
    "    print('接受 H0')  "
   ]
  },
  {
   "cell_type": "markdown",
   "id": "22956b82",
   "metadata": {},
   "source": [
    "由结果可知，Levene检验的P值大于 0.05，故残差具有方差齐性。"
   ]
  },
  {
   "cell_type": "markdown",
   "id": "c0da95d0",
   "metadata": {},
   "source": [
    "### 3独立性检验"
   ]
  },
  {
   "cell_type": "markdown",
   "id": "5cd91577",
   "metadata": {},
   "source": [
    "#### Durbin-Watson 检验\n",
    "\n",
    "Durbin-Watson检验（简称“DW检验“）是一种检验序列是否存在一阶自相关性的常用方法。对于残差序列$\\{e_i, i = 1,2,\\cdots,n,\\cdots\\}$，考虑残差相关性方程为\n",
    "$$\n",
    "e_{i} = \\rho e_{i-1} + v_{i}, \\quad v_i \\overset{i.i.d}{\\sim} N(0,\\sigma_v^2)，\n",
    "$$\n",
    "其中，$|\\rho| < 1$。\n",
    "\n",
    "在Durbin-Watson检验中，我们需要检验这样一对假设\n",
    "$$\n",
    "H_0 : \\rho = 0 \\quad \\text{vs} \\quad H_1: \\rho > 0.\n",
    "$$\n",
    "可以注意到，$\\rho = 0$表示残差序列无自相关性。也就是说，如果我们接受原假设，那么我们就认为序列数据是满足独立性的。\n",
    "\n",
    "DW检验统计量为\n",
    "$$\n",
    "DW = \\frac{\\sum_{i=2}^n (e_i - e_{i-1})^2}{\\sum_{i=1}^n e_{i}^2}\n",
    "$$\n",
    "可以注意到，$DW \\approx 2(1-r_1)$，其中$r_1$表示一阶滞后样本自相关系数，即\n",
    "$$\n",
    "r_1 = \\frac{\\sum_{i=2}^{n} e_{i-1}e_{i}}{\\sum_{i=1}^n e_{i}^2}.\n",
    "$$\n",
    "对于无相关性的残差序列，$r_1$接近于零，所以$DW$统计量接近于$2$。\n",
    "\n",
    "判断规则为\n",
    "- 如果 $DW < d_L$, 那么拒绝原假设；\n",
    "- 如果 $DW > d_U$, 那么接受原假设；\n",
    "- 如果 $d_L \\leq DW \\leq d_U$, 那么无法判断。\n",
    "\n",
    "$d_L$和$d_U$与样本量、线性模型中特征个数以及显著性水平有关，具体可以查表。\n",
    "\n",
    "在python中statsmodels.stats.stattools.durbin_watson()可以用于计算Durbin Watson检验统计量，但无法得到其临界值或者$p$值。还有一种较为**粗略**的判断方法：$DW$一般介于0到4之间。如果$DW$值接近于2，我们一般可以认为残差序列不具有相关性。"
   ]
  },
  {
   "cell_type": "code",
   "execution_count": 11,
   "id": "183bbaae",
   "metadata": {},
   "outputs": [
    {
     "name": "stdout",
     "output_type": "stream",
     "text": [
      "Durbin-Watson检验的检验统计量为： 2.299061678853025\n"
     ]
    }
   ],
   "source": [
    "# Durbin-Watson检验\n",
    "def durbin_watson(residuals):\n",
    "    nume = sum(np.diff(residuals.T) ** 2)\n",
    "    deno = sum(residuals ** 2)\n",
    "    return nume / deno\n",
    "dw = durbin_watson(res)\n",
    "print('Durbin-Watson检验的检验统计量为：',dw)"
   ]
  },
  {
   "cell_type": "markdown",
   "id": "c6c98478",
   "metadata": {},
   "source": [
    "Durbin-Watson检验的统计量约为：2.3，非常接近2，在 0-4 之间，没有违反独立性的假定。 "
   ]
  },
  {
   "cell_type": "markdown",
   "id": "194f3d88",
   "metadata": {},
   "source": [
    "综上三个方面，可以知道该实验用One-way ANOVA模型是恰当的"
   ]
  },
  {
   "cell_type": "markdown",
   "id": "d1357e1d-6e91-4a0e-87fb-f566393b6551",
   "metadata": {},
   "source": [
    "## 问题4：估计食用这 3 种巧克力一小时后血浆的总抗氧能力。请分别给出点估计和区间估计。"
   ]
  },
  {
   "cell_type": "markdown",
   "id": "7cfd4eaa-5d85-4e4c-bafc-e364b6c781ce",
   "metadata": {},
   "source": [
    "$y_{ij}\\sim N({\\mu}+{\\alpha}_i,{\\sigma}^2)$\n",
    "\n",
    "似然函数\n",
    "$L({\\mu},{\\alpha}_1,{\\alpha}_2,{\\alpha}_3,{\\sigma}^2 )=\\prod_{i=1}^3 \\prod_{j=1}^{12}\\frac{1}{{\\sigma}\\sqrt{2{\\pi}}}exp\\{-\\frac{(y_{ij}-{\\mu}-{\\alpha}_i)^2}{2{\\sigma}^2}\\} $\n",
    "\n",
    "取对数，为:\n",
    "$l = -\\frac{n}{2}ln(2{\\pi} {\\sigma}^2 ) - {\\sum}_{i=1}^{3} {\\sum}_{j=1}^{12} -\\frac{(y_{ij}-{\\mu}-{\\alpha}_i)^2}{2{\\sigma}^2}$\n",
    "\n",
    "然后再对各参数求偏导，可得:\n",
    "\n",
    "$\\frac{\\partial l}{\\partial {\\mu}}=\\frac{1}{{\\sigma}^2}{\\sum}_{i=1}^{3} {\\sum}_{j=1}^{12}(y_{ij}-{\\mu}-{\\alpha}_i)=0 $\n",
    "\n",
    "$\\frac{\\partial l}{\\partial {\\alpha}_i}=\\frac{1}{{\\sigma}^2} {\\sum}_{j=1}^{12}(y_{ij}-{\\mu}-{\\alpha}_i)=0,i=1,2,3$\n",
    "\n",
    "$\\frac{\\partial l}{\\partial {\\sigma}^2}=-\\frac{n}{2{\\sigma}^2}+\\frac{1}{2{\\sigma}^4}{\\sum}_{i=1}^{3} {\\sum}_{j=1}^{12}(y_{ij}-{\\mu}-{\\alpha}_i)^2=0$\n",
    "\n",
    "然后由于效应模型存在约束${\\sum}_{i=1}^{3}{\\alpha}_i =0$\n",
    "\n",
    "可得各参数的极大似然估计:\n",
    "$\\hat{{\\mu}} = \\frac{1}{36} {\\sum}_{i=1}^{3} {\\sum}_{j=1}^{12}y_{ij} $\n",
    "\n",
    "$\\hat{{\\alpha}_i}=\\frac{1}{12} {\\sum}_{j=1}^{12}y_{ij} - \\frac{1}{n} {\\sum}_{i=1}^{3} {\\sum}_{j=1}^{12}y_{ij} $\n",
    "\n",
    "$\\hat{{\\sigma}^2_{MLE}}= \\frac{1}{n} SS_E$\n",
    "\n",
    "$\\hat{{\\sigma}^2_{MLE}}$并不是${\\sigma}^2$的无偏估计，一般采用的是$\\hat{{\\sigma}^2 }= \\frac{1}{n-a} SS_E$\n",
    "\n",
    "写了这么一大堆，接下来的代码来具体地点估计一下${\\mu}$的值"
   ]
  },
  {
   "cell_type": "code",
   "execution_count": 12,
   "id": "487e28d0-f266-48d2-9076-da4185dd3609",
   "metadata": {
    "scrolled": true
   },
   "outputs": [
    {
     "name": "stdout",
     "output_type": "stream",
     "text": [
      "105.64722222222221\n"
     ]
    }
   ],
   "source": [
    "print(np.mean(data1['Capacity']))"
   ]
  },
  {
   "cell_type": "markdown",
   "id": "8b1215bb-64ee-4ba3-a79b-ee656d937f27",
   "metadata": {},
   "source": [
    "区间估计其实就是在点估计的基础之上做了进一步的升级。\n",
    "\n",
    "$ \\frac{SS_E}{{\\sigma}^2}\\sim {\\chi}^2 (n-a) $\n",
    "\n",
    "$ \\bar{y_{i.}} \\sim N({\\mu}+{\\alpha}_i,\\frac{{\\sigma}^2}{m}),i=1,2,3$\n",
    "\n",
    "$\\bar{y_{i.}},i=1,2,3$ 与 $SS_E$ 相互独立\n",
    "\n",
    "故$\\frac{\\sqrt{m} (\\bar{y_{i.}}-{\\mu}-{\\alpha}_i )}{ \\sqrt{ \\frac{SS_E}{n-a} } } \\sim t(n-a)$\n",
    "\n",
    "则第i个均值${\\mu}_i$的置信区间为\n",
    "\n",
    "$[\\bar{y_{i.}}-t_{1-{\\alpha}/2}(n-a)\\hat{\\sigma}/{\\sqrt{m}},\\bar{y_{i.}}+t_{1-{\\alpha}/2}(n-a)\\hat{\\sigma}/{\\sqrt{m}} ]$\n",
    "\n",
    "写了这么多，接下来的代码来具体地区间估计一下各${\\mu}_i$的值"
   ]
  },
  {
   "cell_type": "code",
   "execution_count": 13,
   "id": "0fcdebf4-0cc8-4d4a-884a-f790e7af83c9",
   "metadata": {},
   "outputs": [
    {
     "name": "stdout",
     "output_type": "stream",
     "text": [
      "[ 114.16125381158714 , 117.95541285507953 ]\n",
      "[ 98.80292047825381 , 102.5970795217462 ]\n",
      "[ 98.28625381158713 , 102.08041285507952 ]\n"
     ]
    }
   ],
   "source": [
    "t_val_1 = t.ppf(1-alpha/2,n-a)\n",
    "est_sigma_2 = 344.3058/(36-3) # 查表可知SSE = 344.3058\n",
    "for i in range(3):\n",
    "    print('[',np.mean(group[i])-t_val_1*np.sqrt(est_sigma_2/m),',',np.mean(group[i])+t_val_1*np.sqrt(est_sigma_2/m),']')\n"
   ]
  },
  {
   "cell_type": "markdown",
   "id": "8b308392",
   "metadata": {},
   "source": [
    "写到这里，我感觉自己并没有很好地解答这个问题——“估计食用这 3 种巧克力一小时后血浆的总抗氧能力的置信区间”，因为这个问题需要的是“总抗氧能力”，因此我需要去估计的是整体那个$\\mu$\n",
    "\n",
    "$\\bar{y_{..}} = \\frac{1}{n}\\sum_{i=1}^a\\sum_{j=1}^{m}y_{ij} \\sim N({\\mu},\\frac{{\\sigma}^2}{n})$\n",
    "\n",
    "$\\frac{\\bar{y_{..}}-{\\mu}}{\\sqrt{ \\frac{{\\sigma}^2}{n}}} \\sim N(0,1) $\n",
    "\n",
    "$ \\frac{SS_E}{{\\sigma}^2}\\sim {\\chi}^2 (n-a) $\n",
    "\n",
    "因此 $ \\frac{\\sqrt{n} (\\bar{y_{..}}-{\\mu} )}{\\sqrt{\\frac{SSE}{n-a}}} \\sim t(n-a) $\n",
    "\n",
    "可得${\\mu}$的置信区间为\n",
    "\n",
    "$[\\bar{y_{..}}-t_{1-{\\alpha}/2}(n-a)\\sqrt{\\frac{SSE}{n(n-a)}},\\bar{y_{..}}+t_{1-{\\alpha}/2}(n-a)\\sqrt{\\frac{SSE}{n(n-a)}} ]$"
   ]
  },
  {
   "cell_type": "code",
   "execution_count": 14,
   "id": "b3809c18",
   "metadata": {},
   "outputs": [
    {
     "name": "stdout",
     "output_type": "stream",
     "text": [
      "[ 104.55194284966792 , 106.7425015947765 ]\n"
     ]
    }
   ],
   "source": [
    "print('[',np.mean(data1['Capacity'])-t_val_1*np.sqrt(est_sigma_2/(n)),',',np.mean(data1['Capacity'])+t_val_1*np.sqrt(est_sigma_2/(n)),']')"
   ]
  },
  {
   "cell_type": "markdown",
   "id": "1a2896df-a4db-48ec-9ea3-10c2fc760b2b",
   "metadata": {},
   "source": [
    "## 问题5：用Bonferroni方法比较吃了 3 种巧克力后，一个小时的血浆总抗氧能力两两是否存在差异。"
   ]
  },
  {
   "cell_type": "markdown",
   "id": "ae1d33d4",
   "metadata": {},
   "source": [
    "其实Bonferroni方法还是较容易理解的，就是把置信水平从原来的$1-\\alpha$提高到了$1-\\frac{\\alpha}{a(a-1)}$\n",
    "\n",
    "再更改了置信度之后，我们只用一组一组地去得出相应的$\\mu_{i}-\\mu_{i'}$的置信区间即可：\n",
    "\n",
    "$$[(\\bar{y_{i.}}-\\bar{y_{i'.}})-t_{1-\\frac{\\alpha}{a(a-1)}}(n-a)\\hat{\\sigma}\\sqrt{\\frac{2}{m}},(\\bar{y_{i.}}-\\bar{y_{i'.}})+t_{1-\\frac{\\alpha}{a(a-1)}}(n-a)\\hat{\\sigma}\\sqrt{\\frac{2}{m}}]$$\n",
    "\n",
    "接下来就是去比较这个置信区间把0覆盖了没有。"
   ]
  },
  {
   "cell_type": "code",
   "execution_count": 16,
   "id": "aa0840ea",
   "metadata": {},
   "outputs": [
    {
     "name": "stdout",
     "output_type": "stream",
     "text": [
      "[ 12.03234039504803 ,18.684326271618637 ]\n",
      "[ 12.549007061714697 ,19.200992938285303 ]\n",
      "[ -2.8093262716186356 ,3.8426596049519715 ]\n"
     ]
    }
   ],
   "source": [
    "# 1,2比较\n",
    "t_val_2 = t.ppf(1-alpha/(a*(a-1)),n-a)\n",
    "print('[',np.mean(group[0]-group[1])-t_val_2*np.sqrt(2*est_sigma_2/m),',',end='')\n",
    "print(np.mean(group[0]-group[1])+t_val_2*np.sqrt(2*est_sigma_2/m),']')\n",
    "# 1,3比较\n",
    "print('[',np.mean(group[0]-group[2])-t_val_2*np.sqrt(2*est_sigma_2/m),',',end='')\n",
    "print(np.mean(group[0]-group[2])+t_val_2*np.sqrt(2*est_sigma_2/m),']')\n",
    "# 2,3比较\n",
    "print('[',np.mean(group[1]-group[2])-t_val_2*np.sqrt(2*est_sigma_2/m),',',end='')\n",
    "print(np.mean(group[1]-group[2])+t_val_2*np.sqrt(2*est_sigma_2/m),']')"
   ]
  },
  {
   "cell_type": "markdown",
   "id": "0c8a52cf",
   "metadata": {},
   "source": [
    "可以看到仅第二、三类的巧克力的均值差的置信区间把0给覆盖了，可以认为它们之间不存在显著差异。但是1,2和1，3这两组存在显著的差异。\n",
    "\n",
    "这与我们在问题一中的结果是不谋而合的。"
   ]
  },
  {
   "cell_type": "markdown",
   "id": "aceb4806-f557-411d-bc78-6d65fe6feab1",
   "metadata": {},
   "source": [
    "## 问题6：用Tukey方法比较吃了 3 种巧克力后，一个小时的血浆总抗氧能力两两是否存在差异。采用以下两种不同的方法来解决这个问题：\n",
    "\n",
    "- 直接调用python中现有函数；\n",
    "- 用蒙特卡洛随机模拟分布的方式，确定 t 化极差统计量的分位数 $q_{1-\\alpha}(a, df)$，计算临界值(critical value) $c = q_{1-\\alpha}(a, df) \\hat{\\sigma}/\\sqrt{m}$。"
   ]
  },
  {
   "cell_type": "markdown",
   "id": "fe389903",
   "metadata": {},
   "source": [
    "根据课程所学知识：\n",
    "\n",
    "在多重比较问题中，我们同时比较所有的平均值组合。这其中至少一对平均值组合不相等就构成了拒绝域$$W=\\bigcup_{1\\leq i<i'\\leq a}\\{|\\bar{y_{i.}}-\\bar{y_{i'.}}|\\geq c_{ii'}\\}$$\n",
    "\n",
    "为了简化问题，我们假设$$对\\forall i,i'\\in\\{1\\leq i<i'\\leq a\\},c_{ii'}=c$$\n",
    "\n",
    "由于在原假设成立时诸$\\mu_{i}$都等于$\\mu$，易得$$P(W)=P(max_{i}\\frac{\\bar{y_{i.}}-\\mu}{\\frac{\\hat{\\sigma}}{\\sqrt{m}}}-min_{i}\\frac{\\bar{y_{i.}}-\\mu}{\\frac{\\hat{\\sigma}}{\\sqrt{m}}}\\geq\\frac{c}{\\frac{\\hat{\\sigma}}{\\sqrt{m}}})$$\n",
    "\n",
    "令$$q(a,df)=max_{i}\\frac{\\bar{y_{i.}}-\\mu}{\\frac{\\hat{\\sigma}}{\\sqrt{m}}}-min_{i}\\frac{\\bar{y_{i.}}-\\mu}{\\frac{\\hat{\\sigma}} {\\sqrt{m}}},df=n-a$$\n",
    "\n",
    "由于$$\\frac{\\bar{y_{i.}}-\\mu}{\\frac{\\hat{\\sigma}}{\\sqrt{m}}}\\sim t(n-a)$$\n",
    "\n",
    "所以我们可以把$q(a,df)$看成$a$个独立同分布的自由度为$df$的$t$分布的随机变量的极差。\n"
   ]
  },
  {
   "cell_type": "code",
   "execution_count": 17,
   "id": "a8e8429e",
   "metadata": {},
   "outputs": [
    {
     "name": "stdout",
     "output_type": "stream",
     "text": [
      " Multiple Comparison of Means - Tukey HSD, FWER=0.05  \n",
      "======================================================\n",
      "group1 group2 meandiff p-adj   lower    upper   reject\n",
      "------------------------------------------------------\n",
      "     1      2 -15.3583    0.0 -18.5941 -12.1226   True\n",
      "     1      3  -15.875    0.0 -19.1108 -12.6392   True\n",
      "     2      3  -0.5167 0.9191  -3.7524   2.7191  False\n",
      "------------------------------------------------------\n"
     ]
    }
   ],
   "source": [
    "# Tukey方法\n",
    "Tukey= pairwise_tukeyhsd(endog = Data[\"Capacity\"], groups=Data[\"Chocolate\"],alpha=alpha)\n",
    "print(Tukey)"
   ]
  },
  {
   "cell_type": "markdown",
   "id": "a95d68c8",
   "metadata": {},
   "source": [
    "可见，A巧克力与B巧克力、A巧克力与C巧克力对心血管健康的影响不同，而B巧克力与C巧克力对心血管健康的影响相同。"
   ]
  },
  {
   "cell_type": "markdown",
   "id": "a4c03ab3",
   "metadata": {},
   "source": [
    "接着，我们再使用蒙特卡洛方法得到$q(a,df)$的分布。\n",
    "\n",
    "在显著性水平$\\alpha$下，由于$$P(W)=P(q(a,df)\\geq\\frac{c}{\\frac{\\hat{\\sigma}}{\\sqrt{m}}})=\\alpha$$\n",
    "\n",
    "我们可以得到$$c=q_{1-\\alpha}(a,df)\\frac{\\hat{\\sigma}}{\\sqrt{m}}$$\n",
    "\n",
    "只要将不同水平下的样本均值两两作差再取绝对值并与临界值$c$比较，就可以做出判断。如果超过临界值c,可以认为这两个水平之间有显著差异；否则认为他们并没有显著差异。"
   ]
  },
  {
   "cell_type": "code",
   "execution_count": 18,
   "id": "e6bfb79f",
   "metadata": {},
   "outputs": [
    {
     "name": "stdout",
     "output_type": "stream",
     "text": [
      "3.231802824689934\n",
      "15.358333333333334 0.5166666666666799 15.875000000000014\n",
      "拒绝原假设，1,2存在明显差异\n",
      "接受原假设，2,3不存在明显差异\n",
      "拒绝原假设，1,3存在明显差异\n"
     ]
    }
   ],
   "source": [
    "q=[]\n",
    "testN = 100000\n",
    "#用蒙特卡洛随机模拟分布\n",
    "for i in range(testN): \n",
    "    random = np.random.standard_normal(a)\n",
    "    random.sort()\n",
    "    minn = random[0]\n",
    "    maxx = random[a-1]\n",
    "    chi = (np.random.chisquare(n-a))/(n-a)\n",
    "    q.append((maxx - minn) / ( chi**0.5) )\n",
    "q.sort()\n",
    "# 1-alpha分位数再乘上模拟次数等于95000\n",
    "# 求临界值c\n",
    "# 根据问题2中的单因子方差分析表 MSE = 10.4335 = SSE/(n-a)\n",
    "c_ans = q[95000]*((10.4335)**0.5 /(m)**0.5)\n",
    "print(c_ans)\n",
    "\n",
    "d12 = abs(np.mean(group[0])-np.mean(group[1])) #1,2组\n",
    "d23 = abs(np.mean(group[1])-np.mean(group[2])) #2,3组\n",
    "d13 = abs(np.mean(group[0])-np.mean(group[2])) #1,3组\n",
    "\n",
    "print(d12,d23,d13)\n",
    "\n",
    "if d12 < c_ans:\n",
    "    print('接受原假设，1,2不存在明显差异')\n",
    "else:\n",
    "    print('拒绝原假设，1,2存在明显差异') \n",
    "    \n",
    "if d23 < c_ans:\n",
    "    print('接受原假设，2,3不存在明显差异')\n",
    "else:\n",
    "    print('拒绝原假设，2,3存在明显差异') \n",
    "    \n",
    "if d13 < c_ans:\n",
    "    print('接受原假设，1,3不存在明显差异')\n",
    "else:\n",
    "    print('拒绝原假设，1,3存在明显差异') "
   ]
  },
  {
   "cell_type": "markdown",
   "id": "7b8fe283",
   "metadata": {},
   "source": [
    "可得类型1、2和类型1、3均值之间差的绝对值的大于c，故拒绝原假设，认为两者均值存在显著差异。\n",
    "\n",
    "类型2、3均值之间差的绝对值小于c值，接受原假设，认为类型2、3均值不存在显著差异。"
   ]
  },
  {
   "cell_type": "markdown",
   "id": "09a2aba0",
   "metadata": {},
   "source": [
    "## 问题7：基于这个例子，请评述一下Bonferroni方法和Tukey方法的异同。"
   ]
  },
  {
   "cell_type": "markdown",
   "id": "34fcda91",
   "metadata": {},
   "source": [
    "相同的地方：\n",
    "\n",
    "1. 在这个例子中，两种方法的目的都是比较各个水平下的样本均值是否相等，也就是比较不同水平下对心血管健康的影响是不是相同的。\n",
    "\n",
    "2. 无论采取什么样的比较，它们面向的都是$\\frac{a(a-1)}{2}$对水平，都要进行$\\frac{a(a-1)}{2}$次比较才能判断H0是不是要拒绝。\n",
    "\n",
    "不同的地方：\n",
    "1. Bonferroni方法先假定原假设成立，然后让每一对水平的均值之差都落入拒绝域的概率由$\\alpha$降低到了$\\frac{\\alpha}{a(a-1)}$。保证当原假设成立的前提下，增大了某对水平均值差的置信区间，精度较差\n",
    "\n",
    "2. Tukey方法将每对水平比较时拒绝域的临界值都设定为同一个值$c$。在这个原假设成立时，每对水平的均值之差落入接受域的概率等于$1-\\alpha$。$c$与t分布极差统计量的分位数有关，只要求出t分布极差统计量的$1-\\alpha$分位数，通过适当的变换就能把这个$c$给算出来。"
   ]
  },
  {
   "cell_type": "code",
   "execution_count": null,
   "id": "f45eab26",
   "metadata": {},
   "outputs": [],
   "source": []
  }
 ],
 "metadata": {
  "kernelspec": {
   "display_name": "Python 3 (ipykernel)",
   "language": "python",
   "name": "python3"
  },
  "language_info": {
   "codemirror_mode": {
    "name": "ipython",
    "version": 3
   },
   "file_extension": ".py",
   "mimetype": "text/x-python",
   "name": "python",
   "nbconvert_exporter": "python",
   "pygments_lexer": "ipython3",
   "version": "3.10.9"
  }
 },
 "nbformat": 4,
 "nbformat_minor": 5
}
