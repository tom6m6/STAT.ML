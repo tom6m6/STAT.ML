{
 "cells": [
  {
   "attachments": {},
   "cell_type": "markdown",
   "metadata": {},
   "source": [
    "# 《统计方法与机器学习》实践作业3\n",
    "\n",
    "10211900416 郭夏辉"
   ]
  },
  {
   "attachments": {},
   "cell_type": "markdown",
   "metadata": {},
   "source": [
    "## D-Day：Oct. 25\n",
    "\n",
    "## Q1: (必做题目)\n",
    "\n",
    "按以下步骤实现一个模拟实验：\n",
    "\n",
    "1.构造一个特征值矩阵$\\mathbf{X}=(x_{ij})_{n\\times(p+1)}$，即\n",
    "$$\n",
    "\\mathbf{X} = \\begin{pmatrix}\n",
    "1 & x_{11} & x_{12} & \\ldots & x_{1p}\\\\\n",
    "1 & x_{21} & x_{22} & \\ldots & x_{2p}\\\\\n",
    "\\vdots & \\vdots & \\vdots & \\vdots & \\vdots\\\\\n",
    "1 & x_{n1} & x_{n2} & \\ldots & x_{np}\\\\\n",
    "\\end{pmatrix}=\\begin{pmatrix}\n",
    "1 & \\mathbf{X_{1}^T}\\\\\n",
    "1 & \\mathbf{X_{2}^T}\\\\\n",
    "\\vdots & \\vdots\\\\\n",
    "1 & \\mathbf{X_{n}^T}\\\\\n",
    "\\end{pmatrix}\n",
    "$$\n",
    "其中$\\mathbf{X_{1}^T},\\mathbf{X_{2}^T},\\ldots,\\mathbf{X_{n}^T}$是独立同分布的$p$维随机向量，且服从多元正态分布。具体来说，\n",
    "$$\\mathbf{X_{i}}\\sim N_p(\\mathbf{0_p},\\sigma^2\\mathbf{I_p})$$\n",
    "这里$\\mathbf{I_p}$是单位阵。\n",
    "\n",
    "2.构造响应变量$$\\mathbf{y} = \\mathbf{X}\\mathbf{\\beta} + \\mathbf{\\epsilon}$$其中$$\\beta = (\\mathbf{1_{1+p_1}^T},\\mathbf{0_{p-p_1}^T})^T$$\n",
    "特别说明一下，这样构造的$\\beta$使得$\\mathbf{X}$中的前$(p_1+1)$列的特征（包括常数项）对因变量有影响。同时，误差向量$$\\mathbf{\\epsilon} = (\\epsilon_1,\\epsilon_2,\\ldots,\\epsilon_n)^T$$其中$$\\epsilon_i \\overset{i.i.d}\\sim N(0,\\sigma_{\\epsilon}^2),i=1,2,\\ldots,n$$\n",
    "3.给定$\\mathbf{x_0}=(1,\\mathbf{0.05_{20}^T})^T$，$y_0=\\mathbf{x_0}^T\\beta+\\epsilon_0$的最佳点预测值为$\\mathbf{x_0}^T\\beta$。这里是真实的参数$\\beta$。\n",
    "\n",
    "4.给定训练数据$\\mathbf{y}$和$\\mathbf{X}$，建立第$k$个模型，即$$y=\\beta_{0}+\\beta_{1}x_{1}+...+\\beta_{k}x_{k}+\\epsilon$$\n",
    "于是，我们可以得到其相应的最小二乘估计\n",
    "\n",
    "$$\\hat{\\beta^{(k)}}=(\\hat{\\beta_0},\\hat{\\beta_1},\\ldots,\\hat{\\beta_k},\\mathbf{0_{20-k}^T})^T$$\n",
    "\n",
    "由此，$y_0$的预测值为$$\\hat{y_0^{(k)}}=\\mathbf{x_0^T}\\hat{\\beta^{(k)}}$$这里是所得到的估计值$\\hat{\\beta^{(k)}}$。\n",
    "\n",
    "\n",
    "5.重复1-4步$M$次，可以得到$M$个不同的观测值，分别记为$\\hat{y_{0,m}^{(k)}},k=1,2,\\ldots,p;m=1,2,\\ldots,M$。于是，可以计算其偏差平方、方差和均方误差，即\n",
    "$$Biass_k^2=(M^{-1}\\sum_{m=1}^M\\hat{y_{0,m}^{(k)}}-\\mathbf{x_0^T}\\beta)^2$$\n",
    "$$Var_k = M^{-1}\\sum_{m=1}^M(\\hat{y_{0,m}^{(k)}}-M^{-1}\\sum_{m=1}^M\\hat{y_{0,m}^{(k)}})^2$$\n",
    "$$MSE_k = M^{-1}\\sum_{m=1}^M(\\hat{y_{0,m}^{(k)}}-\\mathbf{x_0^T}\\beta)^2$$\n",
    "\n",
    "- 取值:\n",
    "\n",
    "$$\\sigma^2=0.2^2$$\n",
    "$$\\sigma_{\\epsilon}^2=3^2$$\n",
    "$$M=5000$$\n",
    "$$p=20$$\n",
    "$$p_1=10$$\n",
    "\n",
    "- 任务:\n",
    "\n",
    "1. 绘制一张图片（以k作为横坐标），偏差平方、方差以及均方误差这三条曲线；\n",
    "\n",
    "2. 基于所绘制的图象，请评述，模型的欠拟合和过拟合分别对预测结果造成怎样的影响？\n",
    "\n",
    "## Q2: (选做题目)\n",
    "\n",
    "阅读《Reconciling modern machine-learning practice and the classical Biass–variance trade-off》复现论文中图2至图4。"
   ]
  },
  {
   "attachments": {},
   "cell_type": "markdown",
   "metadata": {},
   "source": [
    "## Q1 随机模拟"
   ]
  },
  {
   "attachments": {},
   "cell_type": "markdown",
   "metadata": {},
   "source": [
    "### 1. 绘制一张图片（以k作为横坐标），偏差平方、方差以及均方误差这三条曲线；"
   ]
  },
  {
   "attachments": {},
   "cell_type": "markdown",
   "metadata": {},
   "source": [
    "导入必要的库，并且定义整个实验中重要的量。"
   ]
  },
  {
   "cell_type": "code",
   "execution_count": 1,
   "metadata": {},
   "outputs": [],
   "source": [
    "import random\n",
    "import numpy as np\n",
    "import pandas as pd\n",
    "import matplotlib.pyplot as plt"
   ]
  },
  {
   "cell_type": "code",
   "execution_count": 3,
   "metadata": {},
   "outputs": [],
   "source": [
    "n = 100 # 样本量，这个是我自己取的\n",
    "sigmax = 0.2 # 自变量标准差\n",
    "sigmay = 3 # 随机误差标准差\n",
    "M = 5000 # 重复数量\n",
    "p = 20 # 特征数量\n",
    "p1 = 10 # 被选取特征数量\n",
    "x0 = [1 if i == 0 else 0.05 for i in range(p + 1)]\n",
    "beta = np.mat([1 if i <= p1 else 0 for i in range(p + 1)]).T"
   ]
  },
  {
   "cell_type": "code",
   "execution_count": 4,
   "metadata": {},
   "outputs": [],
   "source": [
    "y0estimate = np.matmul(x0, beta)\n",
    "Bias = [[] for _ in range(p + 1)]\n",
    "y0hats = [[] for _ in range(p + 1)]"
   ]
  },
  {
   "attachments": {},
   "cell_type": "markdown",
   "metadata": {},
   "source": [
    "生成$X$和$y$\n",
    "\n",
    "其中eps是生成的误差向量$\\epsilon$\n",
    "\n",
    "对于每重循环，利用 $\\hat{\\pmb{\\beta}}=(\\pmb{X}'\\pmb{X})^{-1}\\pmb{X}'\\pmb{y}$ 能得到它的值。\n",
    "\n",
    "然后 $\\hat{y_0}^{(k)}=\\pmb{x_0}'\\hat{\\pmb{\\beta}}^{(k)}$ 可解得 $y0$ 的估计值。\n",
    "\n",
    "最后把它和 $\\hat{y_0}^{(k)}-\\pmb{x}_0'\\pmb{\\beta}$ 一起记录到列表中即可。\n"
   ]
  },
  {
   "cell_type": "code",
   "execution_count": 5,
   "metadata": {},
   "outputs": [],
   "source": [
    "# 生成X和y\n",
    "def eps(n):\n",
    "    return np.mat([np.random.normal(0,sigmay) for _ in range(n)]).T\n",
    "\n",
    "def Xandy(beta, n): # 生成 X 和 y\n",
    "    X = []\n",
    "    for _ in range(n):\n",
    "        xi = [np.random.normal(0,sigmax) for _ in range(p + 1)]\n",
    "        xi[0] = 1.0 # X第一列全1\n",
    "        X.append(xi)\n",
    "    X = np.mat(X)\n",
    "    y = np.matmul(X, beta) + eps(n)\n",
    "    return y, X\n",
    "\n",
    "for m in range(M):\n",
    "    y, X = Xandy(beta,  n)\n",
    "    re = np.matmul(X.T,X).I\n",
    "    beta_hat = np.matmul(np.matmul(re,X.T),y)\n",
    "    beta_hat_k = beta_hat\n",
    "    for k in range(p+1):\n",
    "        y0hat = np.matmul(x0, beta_hat_k)\n",
    "        bi = float(y0hat - y0estimate)\n",
    "        Bias[p - k].append(bi)\n",
    "        y0hats[p - k].append(float(y0hat))\n",
    "        beta_hat_k[p - k] = 0"
   ]
  },
  {
   "attachments": {},
   "cell_type": "markdown",
   "metadata": {},
   "source": [
    "接下来计算出$Biass^2_k,\\ Var_k,\\ MSE_k$\n",
    "\n",
    "$$Biass_k^2=(M^{-1}\\sum_{m=1}^M\\hat{y_{0,m}^{(k)}}-\\mathbf{x_0^T}\\beta)^2$$\n",
    "\n",
    "$$Var_k = M^{-1}\\sum_{m=1}^M(\\hat{y_{0,m}^{(k)}}-M^{-1}\\sum_{m=1}^M\\hat{y_{0,m}^{(k)}})^2$$\n",
    "\n",
    "$$MSE_k = M^{-1}\\sum_{m=1}^M(\\hat{y_{0,m}^{(k)}}-\\mathbf{x_0^T}\\beta)^2$$\n",
    "\n",
    "注意到 $Var_k + Biass_k^2 = MSE_k  $"
   ]
  },
  {
   "cell_type": "code",
   "execution_count": 6,
   "metadata": {},
   "outputs": [
    {
     "data": {
      "text/plain": [
       "'\\nprint(\"MSE:\")\\nfor i in range(p + 1):\\n    print(i, \\':\\', round(Mses[i], 3))\\n'"
      ]
     },
     "execution_count": 6,
     "metadata": {},
     "output_type": "execute_result"
    }
   ],
   "source": [
    "Biass = []\n",
    "Mses = []\n",
    "for i in range(p + 1):\n",
    "    y0hati = np.array(y0hats[i])\n",
    "    bis = np.array(Bias[i])\n",
    "    Biassk = float(y0hati.mean() - y0estimate)\n",
    "    Biass.append(Biassk * Biassk)\n",
    "    \n",
    "    mse = bis * bis\n",
    "    Mses.append(mse.mean())\n",
    "\n",
    "'''\n",
    "print(\"MSE:\")\n",
    "for i in range(p + 1):\n",
    "    print(i, ':', round(Mses[i], 3))\n",
    "'''"
   ]
  },
  {
   "cell_type": "code",
   "execution_count": 7,
   "metadata": {},
   "outputs": [
    {
     "data": {
      "image/png": "[encoded data removed]",
      "text/plain": [
       "<Figure size 640x480 with 1 Axes>"
      ]
     },
     "metadata": {},
     "output_type": "display_data"
    }
   ],
   "source": [
    "T = np.array([x for x in range(p+1)])\n",
    "l1 = np.array(Biass)\n",
    "l3 = np.array(Mses)\n",
    "l2 = l3 - l1\n",
    "\n",
    "plt.plot(T, l1, label=\"Bias\")\n",
    "plt.plot(T, l2, label=\"Var\")\n",
    "plt.plot(T, l3, label=\"MSE\")\n",
    "plt.legend()\n",
    "plt.show()"
   ]
  },
  {
   "attachments": {},
   "cell_type": "markdown",
   "metadata": {},
   "source": [
    "### 2. 基于所绘制的图象，请评述，模型的欠拟合和过拟合分别对预测结果造成怎样的影响？"
   ]
  },
  {
   "attachments": {},
   "cell_type": "markdown",
   "metadata": {},
   "source": [
    "首先，基于数学上的推导(这里省略了)，我们可以得到数值上的结论：$Var + Biass = MSE  $ (方差 + 偏差平方 = 均方误差)\n",
    "\n",
    "然后根据绘制的图像来评述：\n",
    "\n",
    "1. 均方误差随着变量数量的增大先减小后增大，在大概 k=10 时候取最小值。而且，随着k的增大，方差增大、偏差平方减小。同时 k = 10也是选择的参数数量和原有参数恰好相等的点，拟合地最好，既不过拟合又不欠拟合。\n",
    "\n",
    "2. 如果选择的变量太少(k<10),方差较小、偏差平方较大(模型准确率较低),欠拟合情况发生\n",
    "\n",
    "3. 如果选择的变量太多(k>10),偏差平方较小(趋于0，甚至可以不予考虑), 但是方差较大(模型较为复杂，会因为数据的改变而发生更大的变化，泛化能力差),过拟合情况发生\n",
    "\n"
   ]
  }
 ],
 "metadata": {
  "kernelspec": {
   "display_name": "base",
   "language": "python",
   "name": "python3"
  },
  "language_info": {
   "codemirror_mode": {
    "name": "ipython",
    "version": 3
   },
   "file_extension": ".py",
   "mimetype": "text/x-python",
   "name": "python",
   "nbconvert_exporter": "python",
   "pygments_lexer": "ipython3",
   "version": "3.10.9"
  },
  "orig_nbformat": 4
 },
 "nbformat": 4,
 "nbformat_minor": 2
}
